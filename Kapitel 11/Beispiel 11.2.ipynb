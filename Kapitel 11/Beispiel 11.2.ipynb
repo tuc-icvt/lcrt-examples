{
 "cells": [
  {
   "cell_type": "markdown",
   "metadata": {},
   "source": [
    "# Beispiel 11.2: Exotherme Reaktion im polytropen Rohrreaktor\n",
    "Bearbeitet von Franz Braun\n",
    "\n",
    "Dieses Beispiel befindet sich im Lehrbuch auf den Seiten 146 - 147. Die Nummerierung\n",
    "der verwendeten Gleichungen entspricht der Nummerierung im Lehrbuch. Das hier angewendete\n",
    "Vorgehen entspricht dem im Lehrbuch vorgestellten Lösungsweg.\n",
    "\n",
    "Zunächst werden die benötigten Pakete importiert."
   ]
  },
  {
   "cell_type": "code",
   "execution_count": 1,
   "metadata": {},
   "outputs": [],
   "source": [
    "### Import\n",
    "import numpy as np\n",
    "from scipy.integrate import solve_ivp\n",
    "import matplotlib.pyplot as plt"
   ]
  },
  {
   "cell_type": "markdown",
   "metadata": {},
   "source": [
    "In diesem Beispiel wird eine irreversible volumenbeständige, exotherme Reaktion 1. Ordnung $\\left(\\mathrm{A_1} \\rightarrow \\mathrm{A_2}\\right)$ in einem idealen, gekühlten, zylindrischen Rohrreaktor betrachtet.\n",
    "\n",
    "\n",
    "\n",
    "Es folgt die Parametrierung des betrachteten Systems."
   ]
  },
  {
   "cell_type": "code",
   "execution_count": 2,
   "metadata": {},
   "outputs": [],
   "source": [
    "d_R         = 25e-3     # Reaktordurchmesser in m\n",
    "L_R         = 5         # Reaktorlänge in m\n",
    "T_K         = 675       # mittlere Kühltemperatur in K\n",
    "c_1_e       = 2         # Zulaufkonzentration von A1 am in mol m-3\n",
    "u_e         = 2         # Zulaufgeschwindigkeit in m s-1\n",
    "T_e         = 663       # Temperatur des Zulaufs in K\n",
    "k_0         = 5e7       # Frequenzfaktor in s-1\n",
    "E_A         = 100e3     # Aktivierungsenergie in J mol-1\n",
    "D_T_ad      = 500       # adiabatische Temperaturerhöhung in K\n",
    "h_W         = 100       # Wärmedurchgangskoeffizient in W m-2 K-1\n",
    "rho         = 1         # gravimetrische Dichte in kg m-3\n",
    "c_p         = 1e3       # spezifische gravimetrische Wärmekapazität in J kg-1 K-1\n",
    "R           = 8.314     # ideale Gaskonstante in J mol-1 K-1\n",
    "nu_1        = -1        # stöchiometrischer KOeffizient der Komponente A1"
   ]
  },
  {
   "cell_type": "markdown",
   "metadata": {},
   "source": [
    "Die Mantelfläche $A_\\mathrm{W}$ und die Querschnittsfläche $A_\\mathrm{R}$ ergeben sich nach:\n",
    "\n",
    "\\begin{align*}\n",
    "A_\\mathrm{W} &= \\pi \\, d_\\mathrm{R} \\, L_\\mathrm{R}\\\\\n",
    "A_\\mathrm{R} &= \\pi \\, \\frac{d_\\mathrm{R}^2}{4} \n",
    "\\end{align*}"
   ]
  },
  {
   "cell_type": "code",
   "execution_count": 3,
   "metadata": {},
   "outputs": [
    {
     "name": "stdout",
     "output_type": "stream",
     "text": [
      "A_W in m2: 0.393\n",
      "A_R in m2: 4.91 e-4\n"
     ]
    }
   ],
   "source": [
    "A_W = np.pi * d_R * L_R     # Mantelfläche in m2\n",
    "A_R = np.pi * d_R**2 / 4    # Querschnittsfläche in m2\n",
    "\n",
    "print('A_W in m2:', np.round(A_W,3))\n",
    "print('A_R in m2:',np.round(A_R*1e4,2),'e-4')"
   ]
  },
  {
   "cell_type": "markdown",
   "metadata": {},
   "source": [
    "Nach der Gleichung 11.6 werden die Prater-, die Stanton, die Arrhenius-Zahl und die dimensionslose Reaktionstemperatur bestimmt.\n",
    "\n",
    "\\begin{align*}\n",
    "\\beta &= \\frac{\\Delta T_\\mathrm{ad}}{T_\\mathrm{e}}\\\\\n",
    "St &= \\frac{h_\\mathrm{W}\\, A_\\mathrm{W}}{u_\\mathrm{e} \\, A_\\mathrm{R} \\, {c}_\\mathrm{v}}\\\\\n",
    "\\gamma_\\mathrm{e} &= \\frac{E_\\mathrm{A}}{R\\,T_\\mathrm{e}}\\\\\n",
    "\\vartheta_\\mathrm{K} &= \\frac{\\overline{T}_\\mathrm{K}}{T_\\mathrm{e}}\n",
    "\\end{align*}"
   ]
  },
  {
   "cell_type": "code",
   "execution_count": 4,
   "metadata": {},
   "outputs": [
    {
     "name": "stdout",
     "output_type": "stream",
     "text": [
      "beta: 0.754\n",
      "St: 40.0\n",
      "gamma_e: 18.14\n",
      "theta_K: 1.018\n"
     ]
    }
   ],
   "source": [
    "beta    = D_T_ad / T_e                          # Prater-Zahl\n",
    "St      = h_W * A_W / (u_e * A_R * rho * c_p)   # Stanton-Zahl\n",
    "gamma_e = E_A / (R * T_e)                       # Arrhenius-Zahl \n",
    "theta_K = T_K / T_e                             # dimensionslose Kühltemperatur\n",
    "\n",
    "print('beta:',np.round(beta,3))\n",
    "print('St:',np.round(St,0))\n",
    "print('gamma_e:',np.round(gamma_e,2))\n",
    "print('theta_K:',np.round(theta_K,3))"
   ]
  },
  {
   "cell_type": "markdown",
   "metadata": {},
   "source": [
    "Die Reaktionsgeschwindigkeit unter Zulaufbedingungen ist definiert über:\n",
    "\n",
    "\\begin{align*}\n",
    "r_\\mathrm{e} &= k_0 \\exp{(-\\gamma_\\mathrm{e})} \\, c_{1,\\mathrm{e}}.\n",
    "\\end{align*}\n",
    "\n",
    "Mit der mittleren Verweilzeit $\\overline{\\tau}$ kann die Damköhler-Zahl unter Zulaufbedingungen bestimmt werden:\n",
    "\n",
    "\\begin{align*}\n",
    "\\overline{\\tau} &= \\frac{L_\\mathrm{R}}{u_\\mathrm{e}}\\\\\n",
    "Da_\\mathrm{I} &= \\frac{\\overline{\\tau}\\,r_\\mathrm{e}}{c_{1,\\mathrm{e}}}\n",
    "\\end{align*}"
   ]
  },
  {
   "cell_type": "code",
   "execution_count": 5,
   "metadata": {},
   "outputs": [
    {
     "name": "stdout",
     "output_type": "stream",
     "text": [
      "r_e in mol m-3 s-1: 1.322\n",
      "tau in s: 2.5\n",
      "Da: 1.652\n"
     ]
    }
   ],
   "source": [
    "r_e     = k_0 * np.exp(- gamma_e) * c_1_e       # Reaktionsgeschwindigkeit unter Zulaufbedingungen in mol m-3 s-1\n",
    "tau     = L_R / u_e                             # mittlere Verweilzeit in s\n",
    "Da      = tau * r_e / c_1_e                     # Damköhler - Zahl\n",
    "\n",
    "print('r_e in mol m-3 s-1:',np.round(r_e,3))\n",
    "print('tau in s:',np.round(tau,3))\n",
    "print('Da:',np.round(Da,3))"
   ]
  },
  {
   "cell_type": "markdown",
   "metadata": {},
   "source": [
    "Die dimensionslose Reaktionsgeschwindigkeit $\\omega$ ist definiert als:\n",
    "\n",
    "\\begin{align*}\n",
    "\\omega &= \\frac{r_j}{r_{1,\\mathrm{e}}} = \\frac{k_0 \\exp{\\left(\\frac{- E_\\mathrm{A}}{R\\,T}\\right)} \\, c_{1}}{k_0 \\exp{(-\\gamma_\\mathrm{e})} \\, c_{1,\\mathrm{e}}},\\\\\n",
    "&= \\frac{\\exp{\\left(\\frac{- E_\\mathrm{A}}{R\\,T} \\frac{T_\\mathrm{e}}{T_\\mathrm{e}}\\right)}}{\\exp{(-\\gamma_\\mathrm{e})}} \\, f_1,\\\\\n",
    "&= \\frac{\\exp{\\left( - \\gamma_\\mathrm{e} \\frac{1}{\\vartheta}\\right)}}{\\exp{(-\\gamma_\\mathrm{e})}} \\, f_1,\\\\\n",
    "&= \\exp{\\left(\\gamma_\\mathrm{e} \\left(1 -  \\frac{1}{\\vartheta} \\right) \\right)} f_1.\n",
    "\\end{align*}\n",
    "\n",
    "\n",
    "Es folgt die Implementierung einer Funktion für die Berechnung der dimensionslosen Reaktionsgeschwindigkeit."
   ]
  },
  {
   "cell_type": "code",
   "execution_count": 6,
   "metadata": {},
   "outputs": [],
   "source": [
    "def cal_omega(theta,f_1):\n",
    "    '''\n",
    "    Funktion zur Berechnung der dimensionslosen Reaktionsgeschwindigkeit omega\n",
    "\n",
    "    Parameter:\n",
    "    ----------\n",
    "    theta       : dimensionslose Reaktortemperatur\n",
    "    f_1         : Restanteil A1 \n",
    "    gamma_e     : Arrhenius-Zahl \n",
    "    '''\n",
    "\n",
    "    omega = np.exp(gamma_e * (1- 1 / theta)) * f_1\n",
    "\n",
    "    return omega"
   ]
  },
  {
   "cell_type": "markdown",
   "metadata": {},
   "source": [
    "Durch das Einsetzen dieser Zahlenwerte in die Material- und Energiebilanz (Gleichungen 11.7a und 11.7b) ergibt sich folgendes DGL - System:\n",
    "\n",
    "\\begin{align*}\n",
    "\\frac{\\mathrm{\\partial}f_i}{\\mathrm{\\partial}\\theta} &= - \\frac{\\mathrm{\\partial}f_i}{\\mathrm{\\partial}\\xi} + Da_\\mathrm{I} \\sum^{M}_{j=1} \\nu_{i,j} \\, \\omega, \\\\\n",
    "\\frac{\\mathrm{\\partial}\\vartheta}{\\mathrm{\\partial}\\theta} &= - \\frac{\\mathrm{\\partial}\\vartheta}{\\mathrm{\\partial}\\xi} + Da_\\mathrm{I} \\sum^M_{j=1} \\beta_j \\omega - St (\\vartheta - \\vartheta_\\mathrm{K}).\n",
    "\\end{align*}\n",
    "\n",
    "Mit der Annahme einer stationären Betriebsführung ergeben sich für die betrachtete Reaktion:\n",
    "\\begin{align*}\n",
    "\\frac{\\mathrm{\\partial}f_i}{\\mathrm{\\partial}\\xi} &=  Da_\\mathrm{I} \\, \\nu_{i} \\, \\omega, \\\\\n",
    "\\frac{\\mathrm{\\partial}\\vartheta}{\\mathrm{\\partial}\\xi} &=  Da_\\mathrm{I} \\, \\beta \\, \\omega - St (\\vartheta - \\vartheta_\\mathrm{K}).\\\\\n",
    "\\end{align*}\n",
    "\n",
    "Es gelten folgende Randbedingungen am Reaktoreintritt:\n",
    "\\begin{align*}\n",
    "f_1 (\\xi = 0) &= 1,\\\\\n",
    "\\vartheta (\\xi = 0) &= 1.\n",
    "\\end{align*}\n",
    "\n",
    "Entsprechende Bilanzen werden in der Funktion _Rohrreaktor_ implementiert."
   ]
  },
  {
   "cell_type": "code",
   "execution_count": 7,
   "metadata": {},
   "outputs": [],
   "source": [
    "def Rohrreaktor(xi,y):\n",
    "    '''\n",
    "    Funktion mit der dimensionslosen Material- und Energiebilanz eines Rohreaktors\n",
    "\n",
    "    Parameter:\n",
    "    ----------\n",
    "    f_1     : Restanteil A1\n",
    "    theta   : dimensionslose Reaktortemperatur\n",
    "    T       : Reaktortemperatur in K\n",
    "    c_1     : Konzentration von A1 in mol m3 \n",
    "    omega   : dimensionslose Reaktionsgeschwindigkeit\n",
    "    dfdxi   : Änderung des Restanteils von A1 mit der Ortskoordinate \n",
    "    dthdxi  : Änderung der dimensionslosen Reaktortemperatur mit der Ortskoordinate\n",
    "    '''\n",
    "    \n",
    "    f_1     = y[:1]                     # Restanteil von A1\n",
    "    theta   = y[-1]                     # dimensionslose Reaktortemperatur\n",
    "\n",
    "    # Berechnung der Reaktionsgeschwindigkeit\n",
    "    omega   = cal_omega(theta,f_1)\n",
    "\n",
    "    # Material- und Energiebilanz\n",
    "    df1dxi  = Da * nu_1 * omega\n",
    "    dthdxi  = Da * beta * omega - St * (theta - theta_K)\n",
    "\n",
    "    return np.vstack((df1dxi, dthdxi))"
   ]
  },
  {
   "cell_type": "markdown",
   "metadata": {},
   "source": [
    "Anschließend wird das implementierte Differentialgleichungssystem mit _solve\\_ivp_ gelöst."
   ]
  },
  {
   "cell_type": "code",
   "execution_count": 8,
   "metadata": {},
   "outputs": [],
   "source": [
    "xi_span  = np.array([0, 1])                             # dimensionslose Ortskoordinate\n",
    "xi_eval  = np.linspace(xi_span[0], xi_span[1], 1000)    # Diskretisierung \n",
    "y_0      = np.array([1, 1])                             # Randbedingungen am Reaktoreintritt xi = 0 : Restanteil A1 und dimensionslose Reaktortemperatur\n",
    "                         \n",
    "sol      = solve_ivp(Rohrreaktor, xi_span, y_0, t_eval = xi_eval, method = 'LSODA', rtol = 1e-5)\n",
    "\n",
    "# Ausgabe der Solver-Nachricht, wenn der Solver die DGL nicht lösen konnte\n",
    "if sol.success != True:\n",
    "    print(sol.success)\n",
    "    print(sol.message)\n",
    "\n",
    "# Ergebnisse\n",
    "xi      = sol.t     # dimensionslose Ortskoordinate\n",
    "f_1     = sol.y[0]  # Restanteil A1\n",
    "theta   = sol.y[1]  # dimensionslose Reaktortemperatur"
   ]
  },
  {
   "cell_type": "markdown",
   "metadata": {},
   "source": [
    "Abschließend werden die Ergebnisse grafisch dargestellt. Dazu werden die dimensionslosen Ergebnisse in die entsprechenden dimensionsbehafteten Größen umgewandelt."
   ]
  },
  {
   "cell_type": "code",
   "execution_count": 9,
   "metadata": {},
   "outputs": [
    {
     "data": {
      "image/png": "[encoded data removed]",
      "text/plain": [
       "<Figure size 1000x500 with 2 Axes>"
      ]
     },
     "metadata": {},
     "output_type": "display_data"
    }
   ],
   "source": [
    "# Umrechnung der dimensionslosen Größen in entsprechende dimensionsbehaftete Größen\n",
    "z   = xi * L_R      # Ortskoordinate in m\n",
    "c_1 = f_1 * c_1_e   # Konzentration von A1 in mol m3\n",
    "T   = theta * T_e   # Reaktortemperatur in K\n",
    "\n",
    "\n",
    "fig, ax = plt.subplots(1, 2, figsize = (10, 5))\n",
    "ax[0].plot(z, T, color = 'black')\n",
    "ax[0].axhline(y = T_K, xmin=0, xmax=5, linestyle = '--', color = 'k', label = r'$T_\\mathrm{K}$')\n",
    "ax[0].scatter(0, T_e,  color = 'k', clip_on = False)\n",
    "ax[0].annotate(r'$T_\\mathrm{e}$',(0.05, T_e-2), fontsize = 10)\n",
    "ax[0].tick_params(axis=\"y\",direction=\"in\", right = True)\n",
    "ax[0].tick_params(axis=\"x\",direction=\"in\", top = True)\n",
    "ax[0].set_ylabel(r'$T\\,/\\,\\mathrm{K}$')\n",
    "ax[0].set_xlabel(r'$z \\,/\\,\\mathrm{m}$')\n",
    "ax[0].set_xlim(0,1.5)\n",
    "ax[0].set_ylim(650,780)\n",
    "ax[0].set_xticks(np.arange(0, 1.51, step = 0.5))\n",
    "ax[0].set_yticks(np.arange(650, 751, step = 50))\n",
    "\n",
    "ax[1].plot(z,c_1, color = 'black')\n",
    "ax[1].axhline(y=2, xmin=0, xmax=5, linestyle = '--', color = 'k')\n",
    "ax[1].tick_params(axis=\"y\",direction=\"in\", right = True)\n",
    "ax[1].tick_params(axis=\"x\",direction=\"in\", top = True)\n",
    "ax[1].set_ylabel(r'$c_1\\,/\\,\\mathrm{mol\\,m^{-3}}$')\n",
    "ax[1].set_xlabel(r'$z \\,/\\,\\mathrm{m}$')\n",
    "ax[1].set_xlim(0,1.5)\n",
    "ax[1].set_ylim(0,2.2)\n",
    "ax[1].set_xticks(np.arange(0, 1.51, step = 0.5))\n",
    "ax[1].set_yticks(np.arange(0, 2.1, step = 0.5))\n",
    "\n",
    "plt.tight_layout()\n",
    "plt.show()"
   ]
  }
 ],
 "metadata": {
  "kernelspec": {
   "display_name": "Python 3",
   "language": "python",
   "name": "python3"
  },
  "language_info": {
   "codemirror_mode": {
    "name": "ipython",
    "version": 3
   },
   "file_extension": ".py",
   "mimetype": "text/x-python",
   "name": "python",
   "nbconvert_exporter": "python",
   "pygments_lexer": "ipython3",
   "version": "3.12.4"
  }
 },
 "nbformat": 4,
 "nbformat_minor": 2
}
