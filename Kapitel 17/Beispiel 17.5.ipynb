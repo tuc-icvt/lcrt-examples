{
 "cells": [
  {
   "cell_type": "markdown",
   "id": "12de9e6b",
   "metadata": {},
   "source": [
    "# <raggedright> Beispiel 17.5: Transporteinflüsse auf scheinbare kinetische Parameter"
   ]
  },
  {
   "cell_type": "markdown",
   "id": "a0b8f2f6",
   "metadata": {},
   "source": [
    "Bearbeitet von Alexander Zirn\n",
    "\n",
    "Dieses Beispiel befindet sich im Lehrbuch auf der Seite 250-252. Die Nummerierung der aus dem Lehrbuch verwendeten Gleichungen entspricht der Nummerierung im Lehrbuch. Gleichungen, die nur im vorliegenden Beispiel verwendet werden, sind durch einfache fortlaufende Zahlen gekennzeichnet."
   ]
  },
  {
   "cell_type": "code",
   "execution_count": 46,
   "id": "3f15eb7a",
   "metadata": {},
   "outputs": [],
   "source": [
    "# IMPORT SECTION\n",
    "\n",
    "import numpy as np                     # import of numpy\n",
    "import matplotlib.pyplot as plt        # import of matplotlib"
   ]
  },
  {
   "cell_type": "markdown",
   "id": "607750bb",
   "metadata": {},
   "source": [
    "# 1. Definition der charakteristischen Größen"
   ]
  },
  {
   "cell_type": "markdown",
   "id": "a5e81648",
   "metadata": {},
   "source": [
    "Um Transporteinflüsse auf die Bestimmung kinetischer Parameter quantifizieren zu können, soll zuerst der Katalysatorwirkungsgrad $\\eta_\\mathrm{cat}$ definiert werden. Dieser bezieht die mittlere (beobachtete) Reaktionsgeschwindigkeit $r_\\mathrm{obs}$ auf die Reaktionsgeschwindigkeit des Referenzfalls ohne Transporteinflüsse $r_\\mathrm{ref}$ (intrinsische Reaktionsgeschwindigkeit) (Glg. 17.22).\n",
    "\n",
    "\\begin{align}\n",
    "\\eta_\\mathrm{cat}=\\frac{r_\\mathrm{obs}}{r_\\mathrm{ref}}\\tag{17.22}\n",
    "\\end{align}\n",
    "\n",
    "Zudem wird eine Reaktion erster Ordnung angenommen bzgl. der messbaren Konzentration $c_{1,\\mathrm{fl}}$ der Komponente $A_1$ in der Gasphase. Diese Konzentration wird vereinfachend mit $c$ bezeichnet. Es ergibt sich für die beobachtete Reaktionsgeschwindigkeit Glg. (2) und Glg. (3) analog für die intrinsische Reaktionsgeschwindigkeit. \n",
    "\n",
    "\\begin{align}\n",
    "r_\\mathrm{obs}&=k_\\mathrm{obs}\\,c\\tag{1}\\\\\n",
    "r_\\mathrm{ref}&=k_\\mathrm{ref}\\,c\\tag{2}\\\\\n",
    "\\end{align}\n",
    "\n",
    "Aus Glg. (17.22) folgt damit:\n",
    "\n",
    "\\begin{align}\n",
    "\\eta_\\mathrm{cat}&=\\frac{k_\\mathrm{obs}\\,c}{k_\\mathrm{ref}\\,c}=\\frac{k_\\mathrm{obs}}{k_\\mathrm{ref}}\\tag{3}\n",
    "\\end{align}\n",
    "\n",
    "\n",
    "Die Temperaturabhängigkeit der intrinsischen Reaktionsgeschwindigkeitskonstante ist durch den ARRHENIUS-Ansatz gegeben:\n",
    "\n",
    "\\begin{align}\n",
    "k_\\mathrm{ref}\\left(T\\right)&=k_0\\,\\mathrm{exp}\\left(-\\frac{E_\\mathrm{A}}{\\mathrm{R}\\,T}\\right),\\tag{4}\n",
    "\\end{align}\n",
    "\n",
    "Aus Glgn. (3) und (4) ergibt sich nun: \n",
    "\n",
    "\\begin{align}\n",
    "k_\\mathrm{obs}&=\\eta_\\mathrm{cat}\\,k_\\mathrm{ref} =\n",
    "\\eta_\\mathrm{cat}\\,k_0\\,\\mathrm{exp}\\left(-\\frac{E_\\mathrm{A}}{\\mathrm{R}\\,T}\\right).\\tag{5}\n",
    "\\end{align}\n",
    "\n",
    "Beide Geschwindigkeitskonstanten werden als Funktionen \"k_ref\" sowie \"k_obs\" in Python implementiert. Der Funktion zur Berechnung der intrinsischen Geschwindigkeitskonstante \"k_ref\" werden die inverse Temperatur sowie die wahre Aktivierungsenergie zugewiesen. Der Funktion für die Berechnung der scheinbaren Geschwindigkeitskonstante \"k_obs\" ruft zusätzlich eine Funktion zur Bestimmung des Katalysatorwirkungsgrades und des THIELE-Moduls auf, die weiter unten erläutert werden. Dafür wird der Funktion auch die BIOT-Zahl übergeben, damit äußere Stofftransportlimitierungen bei der Berechnung des Katalysatorwirkungsgrades auch berücksichtigt werden können (s. Glg. 17.28b)."
   ]
  },
  {
   "cell_type": "code",
   "execution_count": 47,
   "id": "38d970a7",
   "metadata": {},
   "outputs": [],
   "source": [
    "def k_ref(T_inv, E_A):\n",
    "    \"\"\" reference Arrhenius term\n",
    "\n",
    "    Parameters\n",
    "    ----------\n",
    "    T : array of arbitrary size\n",
    "        temperature in K\n",
    "\n",
    "    Returns\n",
    "    -------\n",
    "    array of size 1\n",
    "        reference kinetic constant in s-1\n",
    "    \"\"\"\n",
    "\n",
    "    k_ref = k_0 * np.exp( - (E_A / R) * T_inv)\n",
    "\n",
    "    return k_ref"
   ]
  },
  {
   "cell_type": "code",
   "execution_count": 48,
   "id": "17e44277",
   "metadata": {},
   "outputs": [],
   "source": [
    "def k_obs(T_inv, Bi, E_A):\n",
    "    \"\"\" observable kinetic constant\n",
    "\n",
    "    Parameters\n",
    "    ----------\n",
    "    T : array of arbitrary size\n",
    "        temperature in K\n",
    "    Bi : array of size 1\n",
    "        Biot-number in 1\n",
    "\n",
    "    Returns\n",
    "    -------\n",
    "    array of size 1\n",
    "        observable kinetic constant in s-1\n",
    "    \"\"\"\n",
    "    k_obs = eta_cat(phi(T_inv, E_A), Bi) * k_ref(T_inv, E_A)\n",
    "    \n",
    "    return k_obs"
   ]
  },
  {
   "cell_type": "markdown",
   "id": "4ddafa08",
   "metadata": {},
   "source": [
    "\n",
    "Darüber hinaus kann das Problem auch anhand dimensionsloser Parameter beschrieben werden. Der THIELE-Modul bezieht die Diffusionszeit auf die Reaktionszeit (Glg. 17.20a). \n",
    "\n",
    "\\begin{align}\n",
    "\\phi^{2}=\\frac{L^{2}}{D_\\mathrm{1,eff}}\\,k_\\mathrm{ref}.\\tag{17.20a}\\\\\n",
    "\\end{align}\n",
    "\n",
    "Der THIELE-Modul ist als Funktion \"phi\" abhängig von der inversen Temperatur sowie der Aktivierungsenergie wie folgt implementiert:"
   ]
  },
  {
   "cell_type": "code",
   "execution_count": 49,
   "id": "c7abbab9",
   "metadata": {},
   "outputs": [],
   "source": [
    "def phi(T_inv, E_A):\n",
    "    \"\"\" Thiele-modulus\n",
    "\n",
    "    Parameters\n",
    "    ----------\n",
    "    T : array of arbitrary size\n",
    "        temperature in K\n",
    "\n",
    "    Returns\n",
    "    -------\n",
    "    array of size 1\n",
    "        Thiele-modulus in 1\n",
    "    \"\"\"\n",
    "\n",
    "    phi = np.sqrt(L**2 * k_ref(T_inv, E_A) / D_1_eff)\n",
    "    \n",
    "    return phi"
   ]
  },
  {
   "cell_type": "markdown",
   "id": "40f5726e",
   "metadata": {},
   "source": [
    "Anhand des THIELE-Moduls sowie der BIOT-Zahl lässt sich der Katalysatorwirkungsgrad wie folgt berechnen:\n",
    "\n",
    "\\begin{align}\n",
    "\\frac{1}{\\eta}=\\left(\\frac{\\phi}{\\mathrm{tanh}{\\phi}}+\\frac{\\phi^2}{Bi}\\right). \\tag{17.28b}\n",
    "\\end{align}\n",
    "\n",
    "Der Katalysatorwirkungsgrad ist als Funktion \"eta_cat\" abhängig vom THIELE-Modul sowie der BIOT-Zahl implementiert und berücksichtigt im allgemeinen Fall demnach innere und äußere Stofftransporteinflüsse:"
   ]
  },
  {
   "cell_type": "code",
   "execution_count": 50,
   "id": "76978d1d",
   "metadata": {},
   "outputs": [],
   "source": [
    "def eta_cat(phi_cat, Bi):\n",
    "    \"\"\" catalyst efficiency\n",
    "\n",
    "    Parameters\n",
    "    ----------\n",
    "    T : array of arbitrary size\n",
    "        temperature in K\n",
    "    Bi : array of size 1\n",
    "        Biot-number in 1\n",
    "\n",
    "    Returns\n",
    "    -------\n",
    "    array of size 1\n",
    "        catalyst efficiency in 1\n",
    "    \"\"\"\n",
    "\n",
    "    eta_cat = (phi_cat / np.tanh(phi_cat) + phi_cat**2 / Bi)**( - 1)\n",
    "\n",
    "    return eta_cat"
   ]
  },
  {
   "cell_type": "markdown",
   "id": "0cbe986b",
   "metadata": {},
   "source": [
    "# 2. Definition der notwendigen Parameter"
   ]
  },
  {
   "cell_type": "markdown",
   "id": "3784dae3",
   "metadata": {},
   "source": [
    "Es werden 101 Stützstellen zur Berechnung der Temperaturabhängigkeit verwendet."
   ]
  },
  {
   "cell_type": "code",
   "execution_count": 51,
   "id": "a423e9a7",
   "metadata": {},
   "outputs": [],
   "source": [
    "N_disc = 101 # discretization"
   ]
  },
  {
   "cell_type": "markdown",
   "id": "fa4e2930",
   "metadata": {},
   "source": [
    "Für den Referenzfall werden typische Zahlenwerte für die erforderlichen Größen angenommen, die in der unten stehenden Implementierung zu sehen sind."
   ]
  },
  {
   "cell_type": "code",
   "execution_count": 52,
   "id": "638143b9",
   "metadata": {},
   "outputs": [],
   "source": [
    "# operation\n",
    "T_guess = 298.15 # default temperature in K\n",
    "\n",
    "# reaction\n",
    "E_A_ref = 100e3      # activation energy in J mol-1\n",
    "k_0     = 1.193e+19  # Arrhenius pre-factor in s-1\n",
    "R       = 8.314      # gas constant in J mol-1 K-1\n",
    "\n",
    "# mass transfer\n",
    "D_1_eff = 1e-6     # effective diffusivity in m2 s-1\n",
    "L       = 500e-6   # characteristic length in m\n",
    "\n",
    "# dimensionless\n",
    "Bi      = 10    # Biot number in 1\n",
    "phi_ref = 3     # reference Thiele modulus in 1"
   ]
  },
  {
   "cell_type": "markdown",
   "id": "8a190053",
   "metadata": {},
   "source": [
    "# 3. Sensitivität der beobachteten kinetischen Konstante"
   ]
  },
  {
   "cell_type": "markdown",
   "id": "0b5f439b",
   "metadata": {},
   "source": [
    "Um die Auswirkung des Katalysatorwirkungsgrads auf die beobachtete Geschwindigkeitskonstante $k_\\mathrm{obs}$ zu ermitteln, wird Gleichung 5 logarithmiert, sodass sich folgende Gleichung ergibt:\n",
    "\n",
    "\\begin{align}\n",
    "\\mathrm{ln}\\left(k_\\mathrm{obs}\\right)=\\mathrm{ln}\\left(\\eta_\\mathrm{cat}\\,k_0\\right)-\\frac{E_\\mathrm{A}}{\\mathrm{R}}\\frac{1}{T}.\\tag{6}\n",
    "\\end{align}\n",
    "\n",
    "Der Katalysatorwirkungsgrad sowie der präexponentielle Faktor bestimmen den y-Achsenabschnitt und die Aktivierungsenergie bestimmt die Steigung. "
   ]
  },
  {
   "cell_type": "code",
   "execution_count": 53,
   "id": "082f717b",
   "metadata": {},
   "outputs": [],
   "source": [
    "T_span = np.linspace(273, 500, N_disc) # temperature span in K\n",
    "T_inv_span = np.linspace(1 / T_span[-1], 1/ T_span[0], N_disc) # inverse temperature span in K-1"
   ]
  },
  {
   "cell_type": "code",
   "execution_count": 54,
   "id": "e76ededa",
   "metadata": {},
   "outputs": [
    {
     "data": {
      "image/png": "[encoded data removed]",
      "text/plain": [
       "<Figure size 504x504 with 2 Axes>"
      ]
     },
     "metadata": {
      "needs_background": "light"
     },
     "output_type": "display_data"
    }
   ],
   "source": [
    "fig = plt.subplots(1,1, figsize=(7,7))\n",
    "\n",
    "ax1 = plt.subplot(1, 1,1)         \n",
    "ax1.set_xlabel(r\"$\\frac{1000}{T}\\,/\\,\\mathrm{K^{-1}}$ \", fontsize = 18) # adds label to y-axis \n",
    "ax1.set_ylabel(r\"$\\mathrm{ln}\\,\\left(k_\\mathrm{obs}\\right)\\,/\\,-\\mathrm{ln(s)}$\", fontsize=18, color= 'tab:blue') # adds label to x-axis\n",
    "#ax1.set_xlim(T_inv_span[0]/1e-3, T_inv_span[-1]/1e-3) # sets limits for x-axis\n",
    "ax1.set_xlim(2.6, T_inv_span[-1]/1e-3) # sets limits for x-axis\n",
    "ax1.plot(T_inv_span/1e-3, np.log(k_obs(T_inv_span, Bi, E_A_ref))) # plotting observable kinetic constant \n",
    "ax1.plot(T_inv_span[20:75]/1e-3, -5000/R * T_inv_span[20:75] +  5.26, label=r'$E_\\mathrm{A} = 5000~\\mathrm{J\\,mol^{-1}}$') # plotting tangent for strong external limitations\n",
    "ax1.plot(T_inv_span[70:95]/1e-3, -E_A_ref/(2*R) * T_inv_span[70:95]+22.45, label = r'$E_\\mathrm{A} = \\frac{E_\\mathrm{A,ref}}{2}$') # plotting tangent for strong internal limitations\n",
    "ax1.plot(T_inv_span[90:]/1e-3, -E_A_ref/R * T_inv_span[90:]+43.8, label=r'$E_\\mathrm{A} = E_\\mathrm{A,ref}$') # plotting tangent in intrinsic regime\n",
    "ax1.tick_params(labelsize=14,direction='in', right=True, left=True, top=True, bottom=True) # setting ticks\n",
    "ax1.legend(frameon = False, fontsize = 14, loc = 'center') # setting legend\n",
    "\n",
    "ax2 = ax1.twinx() # adds second y-axis\n",
    "ax2.set_ylabel(r\"$\\phi\\,/\\,1$ \", fontsize = 18, color = 'purple') # adds label to y-axis \n",
    "ax2.plot(T_inv_span/1e-3, phi(T_inv_span, E_A_ref),label = r'$\\vartheta $',color='purple') # plotting Thiele-modulus over inverse temperature span\n",
    "ax2.tick_params(labelsize=14,direction='in',axis ='y') # setting ticks\n",
    "ax2.set_ylim(0, 100) # sets limits for x-axis\n",
    "plt.figtext(0,0.0,r\"$\\mathbf{Figure\\,1:}$ Plotting observable kinetic constant and corresponding Thiele-modulus over inverse temperature.\", fontsize=14, horizontalalignment='left') # subtitle to the figure \n",
    "plt.show()"
   ]
  },
  {
   "cell_type": "markdown",
   "id": "dc36ae79",
   "metadata": {},
   "source": [
    "In Abbildung 1 wird die beobachtete Geschwindigkeitskonstante $\\mathrm{ln}\\left(k_\\mathrm{obs}\\right)$ über die inverse Temperature $T^{-1}$ aufgetragen. Für Limitierungen durch Porendiffusion beträgt die beobachtete Aktivierungsenergie $E_\\mathrm{A} = E_\\mathrm{ref}/2$ (s. mittlere Temperatur bzw. mittlere inverse Temperatur im Diagramm). Für ausgeprägte Diffusionslimitierungen im Film beträgt die beobachtete Aktivierungsenergie sogar nur noch etwa $E_\\mathrm{A} =5000\\,\\mathrm{J~mol^{-1}}$ (s. hohe Temperatur bzw. niedrige inverse Temperatur im Diagramm). Im intrinsischen Regime ohne Limitierungen kann die wahre Aktivierungsenergie von $E_\\mathrm{A,ref}$ gemessen werden (s. niedrige Temperatur bzw. hohe inverse Temperatur im Diagramm). Für jede der ermittelten scheinbaren Aktivierungenergien kann mittels des ARRHENIUS-Ansatzes eine temperaturabhängige Reaktionsgeschwindigkeitskonstante bestimmt werden. Die resultierenden Geraden bilden Tangenten am Verlauf von $k_\\mathrm{obs}\\left(T\\right)$. \n",
    "\n",
    "Für kleine inverse Temperaturen bzw. größere Temperaturen, also im Fall äußerer Stofftransportlimitierungen, stimmt der Verlauf von $\\mathrm{ln}\\left(k_\\mathrm{obs}\\right)$ mit der Tangente überein. Unter diesen Bedingungen ist die intrinsische Reaktionsgeschwindigkeit groß, aber der beobachtete Wert klein, da der Stofftransport durch den Film die effektive Reaktionsgeschwindigkeit begrenzt. Die beobachtete Aktivierungsenergie beschreibt praktisch die Temperaturabhängigkeit der Diffusion durch den äußeren Film. Eine Überlagerung mit der Reaktion ist nicht vorhanden, da im Film keine Reaktion stattfindet.\n",
    "\n",
    "Für mittlere inverse Temperaturen, also im Fall innerer Stofftransportlimitierungen, kann der Verlauf von $\\mathrm{ln}\\left(k_\\mathrm{obs}\\right)$ ebenfalls mit einer Tangente angenähert werden, die aber eine größere Steigung aufgrund größerer scheinbarer Aktivierungsenergie aufweist. In diesem Fall ist die Porendiffusion limitierend und die beobachtete Temperaturabhängigkeit beschreibt die des Zusammenspiels zwischen Reaktion und Porendiffusion.\n",
    "\n",
    "Bei großer inverser Temperatur (geringe Temperatur) ist die Reaktionsgeschwindigkeit so langsam, dass sie den limitierenden Faktor darstellt. Entsprechend wird die beobachtete Reaktionsgeschwindigkeit nicht durch innere oder äußere Stofftransporteffekte beeinflusst und entspricht demnach der intrinsischen Reaktionsgeschwindigkeit. Gleiches gilt für die kinetischen Parameter.\n",
    "\n",
    "Außerdem ist in Abbildung 1 der THIELE-Modul als Funktion der Temperatur aufgetragen. Dieser ist auf die Referenztemperatur $T_\\mathrm{ref} =298\\,\\mathrm{K}$ bezogen und steigt deshalb mit steigender Temperatur bzw. sinkender inverser Temperatur exponential an, entsprechend dem ARRHENIUS-Ansatz."
   ]
  }
 ],
 "metadata": {
  "kernelspec": {
   "display_name": "Python 3 (ipykernel)",
   "language": "python",
   "name": "python3"
  },
  "language_info": {
   "codemirror_mode": {
    "name": "ipython",
    "version": 3
   },
   "file_extension": ".py",
   "mimetype": "text/x-python",
   "name": "python",
   "nbconvert_exporter": "python",
   "pygments_lexer": "ipython3",
   "version": "3.9.12"
  }
 },
 "nbformat": 4,
 "nbformat_minor": 5
}
