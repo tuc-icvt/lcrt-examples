{
 "cells": [
  {
   "cell_type": "markdown",
   "metadata": {},
   "source": [
    "## Beispiel 19.4: Berechnung der Umsetzung eines kugelförmigen Partikels nach dem isothermen Modell des schrumpfenden Partikels"
   ]
  },
  {
   "cell_type": "markdown",
   "metadata": {},
   "source": [
    "_(Dieses Beispiel finden Sie im Lehrbuch auf Seite 315)_"
   ]
  },
  {
   "cell_type": "markdown",
   "metadata": {},
   "source": [
    "In diesem Berechnungsbeispiel sollen der Reaktionsfortschritt einer Gas-Feststoff-Reaktion bei einem kugelförmigen schrumpfenden Partikel bei isothermen Verhältnissen betrachtet werden. Die erforderlichen Gleichungen ergeben sich aus den Ausdrücken in Tabelle 19.7 (Seite 315) mit Gleichung 19.12 (Seite 297), sind aber auch noch einmal explizit auf Seite 315 angegeben."
   ]
  },
  {
   "cell_type": "markdown",
   "metadata": {},
   "source": [
    "---"
   ]
  },
  {
   "cell_type": "markdown",
   "metadata": {},
   "source": [
    "### Laden der benötigten Pakete"
   ]
  },
  {
   "cell_type": "markdown",
   "metadata": {},
   "source": [
    "Innerhalb dieses Beispiels werden die Pakete _numpy_ und _matplotlib.pyplot_ benötigt. Während _numpy_ wichtige Rechenoperationen und Funktionalitäten bereitstellt, werden mit Hilfe des Pakets _matplotlib.pyplot_ die Ergebnisse grafisch dargestellt."
   ]
  },
  {
   "cell_type": "code",
   "execution_count": 1,
   "metadata": {
    "tags": []
   },
   "outputs": [],
   "source": [
    "import numpy as np\n",
    "import matplotlib.pyplot as plt"
   ]
  },
  {
   "cell_type": "markdown",
   "metadata": {},
   "source": [
    "---"
   ]
  },
  {
   "cell_type": "markdown",
   "metadata": {},
   "source": [
    "### Festlegung von Parametern"
   ]
  },
  {
   "cell_type": "markdown",
   "metadata": {},
   "source": [
    "#### Geschwindigkeitskonstante der Reaktion"
   ]
  },
  {
   "cell_type": "markdown",
   "metadata": {},
   "source": [
    "Die Geschwindigkeitskonstante der Chlorierungsreaktion"
   ]
  },
  {
   "cell_type": "markdown",
   "metadata": {
    "tags": []
   },
   "source": [
    "Cl<sub>2</sub> + Ni ⇌ NiCl<sub>2</sub>"
   ]
  },
  {
   "cell_type": "markdown",
   "metadata": {},
   "source": [
    "hat den Wert:"
   ]
  },
  {
   "cell_type": "code",
   "execution_count": 2,
   "metadata": {},
   "outputs": [],
   "source": [
    "k_s = 0.1 # m / s"
   ]
  },
  {
   "cell_type": "markdown",
   "metadata": {},
   "source": [
    "#### Konzentration der gasförmigen Spezies"
   ]
  },
  {
   "cell_type": "markdown",
   "metadata": {},
   "source": [
    "Die Chlorkonzentration $c_{1,\\mathrm{b}}$ im Kern der Gasphase beträgt:"
   ]
  },
  {
   "cell_type": "code",
   "execution_count": 3,
   "metadata": {},
   "outputs": [],
   "source": [
    "c_1b = 5.0 # mol / m^3"
   ]
  },
  {
   "cell_type": "markdown",
   "metadata": {},
   "source": [
    "#### Eigenschaften des Feststoffs"
   ]
  },
  {
   "cell_type": "markdown",
   "metadata": {},
   "source": [
    "Die Dichte des Nickels und die charakteristische Abmessung $L=d_\\mathrm{p}/2$ des kugelförmigen Partikels betragen:"
   ]
  },
  {
   "cell_type": "code",
   "execution_count": 4,
   "metadata": {},
   "outputs": [],
   "source": [
    "rho_2 = 151770 # mol / m^3\n",
    "L = 0.0025 # m"
   ]
  },
  {
   "cell_type": "markdown",
   "metadata": {},
   "source": [
    "#### Stoffübergang des Gases"
   ]
  },
  {
   "cell_type": "markdown",
   "metadata": {},
   "source": [
    "Der Stoffübergangskoeffizient zu Beginn der Reaktion $k_{1,\\mathrm{G},0}$ und der Exponent für den Einfluss der Partikelabmessung $m$ haben folgende Werte:"
   ]
  },
  {
   "cell_type": "code",
   "execution_count": 5,
   "metadata": {},
   "outputs": [],
   "source": [
    "k_1G0 = 0.05 # m / s\n",
    "m = 0.5 # -"
   ]
  },
  {
   "cell_type": "markdown",
   "metadata": {},
   "source": [
    "Als Verhältnis von Stoffübergangskoeffizient zu Beginn der Reaktion $k_{1,\\mathrm{G},0}$ und Geschwindigkeitskonstante $k_\\mathrm{s}$ ergibt sich die dimensionslose Kenngröße $W_1$ schließlich zu:"
   ]
  },
  {
   "cell_type": "code",
   "execution_count": 6,
   "metadata": {},
   "outputs": [],
   "source": [
    "W_1 = 0.5 # -"
   ]
  },
  {
   "cell_type": "markdown",
   "metadata": {},
   "source": [
    "---"
   ]
  },
  {
   "cell_type": "markdown",
   "metadata": {},
   "source": [
    "### Berechnung der Reaktionszeiten"
   ]
  },
  {
   "cell_type": "markdown",
   "metadata": {},
   "source": [
    "Mit den angegebenen Gleichungen können nun die Reaktionszeiten (in der Einheit Minuten) bei Limitierung des Vorgangs durch Reaktion $t_\\mathrm{R}$ bzw. durch Diffusion im Gasfilm $t_\\mathrm{G}$ sowie die Gesamtreaktionszeit $t=t_\\mathrm{R}+t_\\mathrm{G}$ und der relative Anteil der Reaktionszeit bei Filmdiffusionslimitierung $t=t_\\mathrm{G}/(t_\\mathrm{R}+t_\\mathrm{G})$ in Abhängigkeit vom Umsatzgrad des Nickels $U$ berechnet werden."
   ]
  },
  {
   "cell_type": "code",
   "execution_count": 7,
   "metadata": {},
   "outputs": [],
   "source": [
    "def t_R(U):\n",
    "    return (1-(1-U)**(1/3)) * L * rho_2 / (60*k_s*c_1b)\n",
    "\n",
    "def t_G(U):\n",
    "    return (1-(1-U)**((1+m)/3)) * L * rho_2 / (60*k_s*c_1b*W_1*(1+m))\n",
    "\n",
    "def t(U):\n",
    "    return (t_R(U)+t_G(U))\n",
    "\n",
    "def ratio(U):\n",
    "    return (t_G(U)/t(U))"
   ]
  },
  {
   "cell_type": "markdown",
   "metadata": {},
   "source": [
    "---"
   ]
  },
  {
   "cell_type": "markdown",
   "metadata": {},
   "source": [
    "### Darstellung der Ergebnisse"
   ]
  },
  {
   "cell_type": "markdown",
   "metadata": {},
   "source": [
    "Für die Darstellung der Ergebnisse muss der zu betrachtende Umsatzgradbereich $U_\\mathrm{range}$ angegeben werden. In diesem Fall ist dies der Bereich von 0 bis 1 in Schritten von 0.001."
   ]
  },
  {
   "cell_type": "code",
   "execution_count": 8,
   "metadata": {},
   "outputs": [],
   "source": [
    "U_range = np.linspace(0.001, 1.0, 1001) # -"
   ]
  },
  {
   "cell_type": "markdown",
   "metadata": {},
   "source": [
    "Anschließend werden die Funktionen in Abhängigkeit vom Umsatzgrad mit Hilfe des Pakets _matplotlib.pyplot_ dargestellt."
   ]
  },
  {
   "cell_type": "code",
   "execution_count": 9,
   "metadata": {},
   "outputs": [
    {
     "data": {
      "image/png": "[encoded data removed]",
      "text/plain": [
       "<Figure size 864x360 with 2 Axes>"
      ]
     },
     "metadata": {
      "needs_background": "light"
     },
     "output_type": "display_data"
    }
   ],
   "source": [
    "fig, (ax1, ax2) = plt.subplots(1, 2, figsize=(12,5))\n",
    "\n",
    "ax1.plot(U_range, t_R(U_range), color='blue', label=\"$t_\\mathrm{R}$\")\n",
    "ax1.plot(U_range, t_G(U_range), color='red', label=\"$t_\\mathrm{G}$\")\n",
    "ax1.plot(U_range, t(U_range), color='black', label=\"$t$\")\n",
    "ax1.set_xlabel(\"U / 1\")\n",
    "ax1.set_ylabel(\"t / min\")\n",
    "ax1.set_xlim(0.0,1.0)\n",
    "ax1.set_ylim(0,30)\n",
    "ax1.legend(loc='best')\n",
    "\n",
    "ax2.plot(U_range, ratio(U_range), color='black')\n",
    "ax2.set_xlabel(\"U / 1\")\n",
    "ax2.set_ylabel(\"$t_\\mathrm{G}/(t_\\mathrm{R}+t_\\mathrm{G})$ / 1\")\n",
    "ax2.set_xlim(0.0,1.0)\n",
    "ax2.set_ylim(0.5,0.7)\n",
    "\n",
    "plt.show()"
   ]
  },
  {
   "cell_type": "markdown",
   "metadata": {},
   "source": [
    "Die Berechnungsergebnisse sind ebenfalls im Lehrbuch in Abbildung 19.9 auf Seite 316 dargestellt."
   ]
  }
 ],
 "metadata": {
  "kernelspec": {
   "display_name": "Python 3",
   "language": "python",
   "name": "python3"
  },
  "language_info": {
   "codemirror_mode": {
    "name": "ipython",
    "version": 3
   },
   "file_extension": ".py",
   "mimetype": "text/x-python",
   "name": "python",
   "nbconvert_exporter": "python",
   "pygments_lexer": "ipython3",
   "version": "3.8.5"
  }
 },
 "nbformat": 4,
 "nbformat_minor": 4
}
