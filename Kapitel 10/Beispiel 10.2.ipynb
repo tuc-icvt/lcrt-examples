{
 "cells": [
  {
   "cell_type": "markdown",
   "metadata": {},
   "source": [
    "# Beispiel 10.2: Konzentrationsführung im halbkontinuierlichen Reaktor\n",
    "Bearbeitet von Franz Braun\n",
    "\n",
    "Dieses Beispiel befindet sich im Lehrbuch auf den Seiten 138 - 139. Die Nummerierung\n",
    "der verwendeten Gleichungen entspricht der Nummerierung im Lehrbuch. Das hier angewendete\n",
    "Vorgehen entspricht dem im Lehrbuch vorgestellten Lösungsweg.\n",
    "\n",
    "Zunächst werden die benötigten Pakete importiert."
   ]
  },
  {
   "cell_type": "code",
   "execution_count": 1,
   "metadata": {},
   "outputs": [],
   "source": [
    "### Import\n",
    "import numpy as np\n",
    "from scipy.integrate import solve_ivp\n",
    "import matplotlib.pyplot as plt"
   ]
  },
  {
   "cell_type": "markdown",
   "metadata": {},
   "source": [
    "In diesem Beispiel wird eine exotherme Parallelreaktion in einem halbkontinuierlichen Rührkesselreaktor betrachtet.\n",
    "\n",
    "\\begin{align*}\n",
    "\\mathrm{R1:} \\quad \\mathrm{A_1} + \\mathrm{A_2} \\rightarrow \\mathrm{A_3} \\qquad &\\text{mit} \\quad r_1 = k_1 \\, c_1^{1,5} \\, c_2^{0,5}\\\\ \n",
    "\\mathrm{R2:} \\quad \\mathrm{A_1} + \\mathrm{A_2} \\rightarrow \\mathrm{A_4} \\qquad &\\text{mit} \\quad r_2 = k_2 \\, c_1 \\, c_2\n",
    "\\end{align*}\n",
    "\n",
    "Es folgt die Parametrierung der Reaktion mit dimensionslosen Variablen."
   ]
  },
  {
   "cell_type": "code",
   "execution_count": 2,
   "metadata": {},
   "outputs": [],
   "source": [
    "beta_1      = 0.2   # Prater-Zahl R1\n",
    "beta_2      = 0.4   # Prater-Zahl R2\n",
    "gamma_1     = 20    # dimensionslose Aktivierungsenergie R1\n",
    "gamma_2     = 20.5  # dimensionslose Aktivierungsenergie R2\n",
    "\n",
    "theta_K     = 1     # dimensionslose Kühlmitteltemperatur\n",
    "theta_e     = 1     # dimensionslose Eingangsstromtemperatur \n",
    "St          = 3     # Stanton-Zahl\n",
    "Da          = 0.1   # Damköhler-Zahl\n",
    "\n",
    "kappa_1     = 0     # Einsatzverhältnis von A1\n",
    "kappa_2     = 1     # Einsatzverhältnis von A2\n",
    "kappa_3     = 0     # Einsatzverhältnis von A3\n",
    "kappa_4     = 0     # Einsatzverhältnis von A4\n",
    "\n",
    "\n",
    "nu_1        = np.array([-1, -1, 1, 0])  # stöchiometrische Koeffizienten von A1 bis A4 in R1\n",
    "nu_2        = np.array([-1, -1, 0, 1])  # stöchiometrische Koeffizienten von A1 bis A4 in R2"
   ]
  },
  {
   "cell_type": "markdown",
   "metadata": {},
   "source": [
    "Die dimensionslose Reaktionsgeschwindigkeit $\\omega_1$ der Reaktion R1 ergibt sich durch die Division der Reaktionsgeschwindigkeit $r_1$ durch eine fiktive Anfangsreaktionsgeschwindigkeit $r_{1,\\mathrm{v}} = r_1 (T_0, c_{1,\\mathrm{v}},c_{2,\\mathrm{v}})$:\n",
    "\n",
    "\\begin{align*}\n",
    "\\omega_1 = \\frac{r_1}{r_{1,\\mathrm{v}}} = \\frac{k_1\\,c_1^{1,5} \\, c_2^{0,5}}{k_{1,\\mathrm{v}}\\, c_{1,\\mathrm{v}}^{1,5}\\, c_{2,\\mathrm{v}}^{0,5}}.\\\\\n",
    "\\end{align*}\n",
    "\n",
    "Mit der Definition des Restanteils $\\left(f_i = \\frac{c_i}{c_{1,\\mathrm{v}}}\\right)$ und der Annahme, dass die Konzentrationen der Komponenten $A_1$ und $A_2$ in den Vorlagebhältern gleich groß sind $\\left(c_{1,\\mathrm{v}} = c_{2,\\mathrm{v}}\\right)$, lässt sich dieser Ausdruck umschreiben zu:\n",
    "\n",
    "\\begin{align*}\n",
    "\\omega_1 = \\frac{k_{0,1}\\,\\exp{ \\left(\\frac{-E_\\mathrm{A}}{R\\,T}\\right)}}{k_{0,1}\\,\\exp{\\left(\\frac{-E_\\mathrm{A}}{R\\,T_0}\\right)}} f_1^{1,5} \\, f_2^{0,5}.\n",
    "\\end{align*}\n",
    "\n",
    "Folgend wird in diesen Ausdruck die dimensionslose Reaktortemperatur $\\left(\\vartheta = \\frac{T}{T_0}\\right)$ und Arrhenius-Zahl $\\left(\\gamma_j = \\frac{E_{\\mathrm{A},j}}{R\\,T_0}\\right)$ eingesetzt und dieser vereinfacht.\n",
    "\n",
    "\\begin{align*}\n",
    "\\omega_1 &= \\frac{\\exp{ \\left(\\frac{-E_\\mathrm{A}}{R\\,T} \\frac{T_0}{T_0} \\right)}}{\\exp{\\left(\\frac{-E_\\mathrm{A}}{R\\,T_0}\\right)}} f_1^{1,5} \\, f_2^{0,5} = \\frac{\\exp{ \\left(\\frac{-E_\\mathrm{A}}{R\\,T_0}\\frac{T_0}{T} \\right)}}{\\exp{\\left(\\frac{-E_\\mathrm{A}}{R\\,T_0}\\right)}} f_1^{1,5} \\, f_2^{0,5} = \\frac{\\exp{ \\left( -\\gamma_1 \\frac{1}{\\vartheta} \\right)}} {\\exp{\\left(-\\gamma_1\\right)}} f_1^{1,5} \\, f_2^{0,5} \\\\ \n",
    "\\omega_1 &= \\exp{ \\left(\\gamma_1 -\\gamma_1 \\frac{1}{\\vartheta} \\right)} f_1^{1,5} \\, f_2^{0,5}\n",
    "\\end{align*}\n",
    "\n",
    "\n",
    "Die dimensionslose Reaktionsgeschwindigkeit $\\omega_2$ der Reaktion R2 ist definiert über:\n",
    "\n",
    "\\begin{align*}\n",
    "\\omega_2 = \\frac{r_2}{r_{1,\\mathrm{v}}} = \\frac{k_2\\,c_1 \\, c_2}{k_{1,\\mathrm{v}}\\, c_{1,\\mathrm{v}}^{1,5}\\, c_{2,\\mathrm{v}}^{0,5}}.\\\\\n",
    "\\end{align*}\n",
    "\n",
    "Mit den Annahmen gleicher Konzentrationen $c_{i,v}$ der Komponenten $A_1$ und $A_2$ in den Vorlagebhältern und gleicher Frequenzfaktoren $(k_{0,1} = k_{0,2} )$ beider Reaktionen, ergibt sich folgender Ausdruck für $\\omega_2$:\n",
    "\n",
    "\\begin{align*}\n",
    "\\omega_1 &= \\frac{k_2\\,c_1 \\, c_2}{k_{1,\\mathrm{v}}\\, c_{1,\\mathrm{v}}^{1,5}\\, c_{2,\\mathrm{v}}^{0,5}} = \\frac{k_{0,1}\\,\\exp{ \\left(\\frac{-E_\\mathrm{A}}{R\\,T}\\right)}}{k_{0,2}\\,\\exp{\\left(\\frac{-E_\\mathrm{A}}{R\\,T_0}\\right)}}  \\frac{k_2\\,c_1 \\, c_2}{k_{1,\\mathrm{v}}\\, c_{1,\\mathrm{v}}^{2}} = \\frac{\\exp{ \\left(\\frac{-E_\\mathrm{A}}{R\\,T} \\frac{T_0}{T_0} \\right)}}{\\exp{\\left(\\frac{-E_\\mathrm{A}}{R\\,T_0}\\right)}} f_1 \\, f_2 = \\frac{\\exp{ \\left( -\\gamma_2 \\frac{1}{\\vartheta} \\right)}} {\\exp{\\left(-\\gamma_1\\right)}}  f_1 \\, f_2, \\\\\n",
    "\\omega_1 &= \\exp{ \\left(\\gamma_2 -\\gamma_1 \\frac{1}{\\vartheta} \\right)} f_1 \\, f_2.\n",
    "\\end{align*}\n",
    "\n",
    "Die dimensionslosen Reaktionsgeschwindigkeiten beider Reaktionen werden im Folgenden als Funktion _r_berechnen_ implementiert."
   ]
  },
  {
   "cell_type": "code",
   "execution_count": 3,
   "metadata": {},
   "outputs": [],
   "source": [
    "def r_brechnen(f,theta):\n",
    "    '''\n",
    "    Funktion zur Berechnung der dimensionslosen Reaktionsgeschwindigkeiten omega_1 und omega_2\n",
    "\n",
    "    Parameter:\n",
    "    ----------\n",
    "    gamma_1 : Arrhenius-Zahl der Reaktion 1\n",
    "    gamma_2 : Arrhenius-Zahl der Reaktion 2\n",
    "    theta   : dimensionslose Reaktortemperatur \n",
    "    f       : Vektor der Restanteile aller Komponenten (A1 bis A4)\n",
    "    '''\n",
    "\n",
    "\n",
    "    omega_1 = np.exp(gamma_1 - gamma_1 / theta) * np.power(f[0],1.5) * np.power(f[1],0.5)\n",
    "    omega_2 = np.exp(gamma_1 - gamma_2 / theta) * f[0] * f[1]\n",
    "    return np.array((omega_1, omega_2))"
   ]
  },
  {
   "cell_type": "markdown",
   "metadata": {},
   "source": [
    "In die Materialbilanz (Gl. 10.10a) und in die Energiebilanz (Gl. 10.10b) werden die dimensionslosen Reaktionsgeschwindigkeiten eingesetzt.\n",
    "\n",
    "\\begin{align*}\n",
    "\\frac{\\mathrm{d}f_i}{\\mathrm{d}\\theta} &= \\frac{1}{\\frac{t_\\mathrm{V}}{t_\\mathrm{D}}+\\theta} (\\kappa_i - f_i) + \\frac{Da_\\mathrm{I}}{r_{1,\\mathrm{v}}} \\sum^M_{j=1} \\nu_{i,j} \\, r_j \\qquad \\text{mit} \\quad f_i(0) = \\kappa_i\\\\\n",
    "&= \\frac{1}{\\frac{t_\\mathrm{V}}{t_\\mathrm{D}}+\\theta} (\\kappa_i - f_i) + Da_\\mathrm{I} \\, (\\nu_{i,1} \\, \\omega_1 + \\nu_{i,2} \\, \\omega_2)\\\\\n",
    "\\frac{\\mathrm{d}\\vartheta}{\\mathrm{d}\\theta} &= \\frac{1}{\\frac{t_\\mathrm{V}}{t_\\mathrm{D}}+\\theta} \\vartheta_\\mathrm{e} + Da_\\mathrm{I} \\sum^M_{j=1} \\beta_j \\left( \\frac{r_j}{r_{1,\\mathrm{v}}} \\right) - St (\\vartheta - \\vartheta_\\mathrm{K})\\\\\n",
    "&= \\frac{1}{\\frac{t_\\mathrm{V}}{t_\\mathrm{D}}+\\theta} \\vartheta_\\mathrm{e} + Da_\\mathrm{I} \\left( \\beta_1 \\, \\omega_1 +   \\beta_2 \\, \\omega_2  \\right) - St (\\vartheta - \\vartheta_\\mathrm{K})\n",
    "\\end{align*}\n",
    "\n",
    "Die so erhaltenen Differentialgleichungen (DGLs) für werden in der Funktion _Rührkessel_ implementiert."
   ]
  },
  {
   "cell_type": "code",
   "execution_count": 4,
   "metadata": {},
   "outputs": [],
   "source": [
    "def Rührkessel(Th, y):\n",
    "    '''\n",
    "    Funktion mit der dimensionslosen Material- und Energiebilanz eines Rührkessel-Reaktors\n",
    "    \n",
    "    Parameter:\n",
    "    ----------\n",
    "    Th      : dimensionslose Zeit\n",
    "    y       : Vektor mit Restanteilen der Komponenten A1 bis A4 und der dimensionslosen Reaktionstemperatur als letzter Eintrag\n",
    "    f       : Vektor mit Restanteilen der Komponenten A1 bis A4\n",
    "    theta   : dimensionslose Reaktionstemperatur\n",
    "    omega   : Vektor mit den dimensionslosen Reaktionsgeschwindigkeiten der Reaktionen R1 und R2\n",
    "    dfidTh  : Änderung des Restanteils i mit der dimensionslosen Zeit\n",
    "    kappa_i : Einsatzverhältnis der Komponente i\n",
    "    Da      : Damköhler-Zahl\n",
    "    nu_1    : stöchiometrische Koeffizienten von A1 bis A4 in R1\n",
    "    nu_2    : stöchiometrische Koeffizienten von A1 bis A4 in R2\n",
    "    dthdTh  : Änderung der dimensionslosen Reaktionstemperatur mit der dimensionslosen Zeit\n",
    "    theta_e : dimensionslose Eingangsstromtemperatur \n",
    "    beta_j  : Prater-Zahl der Reaktion j\n",
    "    St      : Stanton-Zahl \n",
    "    '''\n",
    "\n",
    "    # Zuweisen der Konzentrationen und Temperaturen\n",
    "    f       = y[0:4]\n",
    "    theta   = y[-1]\n",
    "\n",
    "    # Berechnen der dimensionslosen Reaktionsgeschwindigkeiten\n",
    "    omega   = r_brechnen(f, theta)\n",
    "\n",
    "    # Materialbilanzen\n",
    "    df1dTh  =  1 / (1 + Th) * (kappa_1 - f[0]) + Da * ( nu_1[0] * omega[0] + nu_2[0] * omega[1])\n",
    "    df2dTh  =  1 / (1 + Th) * (kappa_2 - f[1]) + Da * ( nu_1[1] * omega[0] + nu_2[1] * omega[1])\n",
    "    df3dTh  =  1 / (1 + Th) * (kappa_3 - f[2]) + Da * ( nu_1[2] * omega[0] + nu_2[2] * omega[1])\n",
    "    df4dTh  =  1 / (1 + Th) * (kappa_3 - f[3]) + Da * ( nu_1[3] * omega[0] + nu_2[3] * omega[1])\n",
    "\n",
    "    # Energiebilanz\n",
    "    dthdTh  =  1 / (1 + Th) * theta_e          + Da * ( beta_1  * omega[0] + beta_2  * omega[1]) - St * (theta - theta_K)\n",
    "\n",
    "    return np.hstack((df1dTh,df2dTh,df3dTh,df4dTh,dthdTh))"
   ]
  },
  {
   "cell_type": "markdown",
   "metadata": {},
   "source": [
    "Die DGLs werden mit dem solver _solve\\_ivp_ gelöst."
   ]
  },
  {
   "cell_type": "code",
   "execution_count": 5,
   "metadata": {},
   "outputs": [],
   "source": [
    "t_span  = np.array([0, 1])                          # dimensionslose Zeitspanne \n",
    "t_eval  = np.linspace(t_span[0], t_span[1], 100)    # Diskretisierung \n",
    "y_0     = np.array([1, .0, .0, .0, 1])              # Anfangsbedingungen bei theta = 0 : Restanteile der Edukte und dimensionslose Reaktionstemperatur\n",
    "                         \n",
    "sol     = solve_ivp(Rührkessel, t_span, y_0, t_eval = t_eval, method = 'LSODA', rtol = 1e-5)\n",
    "\n",
    "# Ausgabe der Solver-Nachricht, wenn der Solver die DGL nicht lösen konnte\n",
    "if sol.success != True:\n",
    "    print(sol.success)\n",
    "    print(sol.message)"
   ]
  },
  {
   "cell_type": "markdown",
   "metadata": {},
   "source": [
    "Im Folgenden werden die Restanteile und die dimensionslose Reaktionstemperatur grafisch veranschaulicht."
   ]
  },
  {
   "cell_type": "code",
   "execution_count": 6,
   "metadata": {},
   "outputs": [
    {
     "data": {
      "image/png": "[encoded data removed]",
      "text/plain": [
       "<Figure size 500x500 with 1 Axes>"
      ]
     },
     "metadata": {},
     "output_type": "display_data"
    }
   ],
   "source": [
    "fig, ax = plt.subplots(1, 1, figsize = (5, 5))\n",
    "ax.plot(sol.t, sol.y[0], color = 'black', label = r'$f_1$')\n",
    "ax.plot(sol.t, sol.y[1], color = 'blue', label = r'$f_2$')\n",
    "ax.plot(sol.t, sol.y[2], color = 'red', label = r'$f_3$')\n",
    "ax.plot(sol.t, sol.y[3], color = 'grey', label = r'$f_4$')\n",
    "ax.plot(sol.t, sol.y[4], color = 'blue', label = r'$\\vartheta$', linestyle = '--')\n",
    "ax.tick_params(axis=\"y\",direction=\"in\", right = True)\n",
    "ax.tick_params(axis=\"x\",direction=\"in\", top = True)\n",
    "ax.set_xticks(np.arange(0, 1.1, step = 0.2))\n",
    "ax.set_yticks(np.arange(0, 1.51, step = 0.5))\n",
    "ax.set_ylabel(r'$f_i,\\vartheta\\,/\\,1$')\n",
    "ax.set_xlabel(r'$\\theta \\,/\\,1$')\n",
    "ax.set_xlim(0,1)\n",
    "ax.set_ylim(0,1.5)\n",
    "plt.legend(frameon = False)\n",
    "plt.tight_layout()\n",
    "plt.show()"
   ]
  }
 ],
 "metadata": {
  "kernelspec": {
   "display_name": "base",
   "language": "python",
   "name": "python3"
  },
  "language_info": {
   "codemirror_mode": {
    "name": "ipython",
    "version": 3
   },
   "file_extension": ".py",
   "mimetype": "text/x-python",
   "name": "python",
   "nbconvert_exporter": "python",
   "pygments_lexer": "ipython3",
   "version": "3.9.12"
  }
 },
 "nbformat": 4,
 "nbformat_minor": 2
}
