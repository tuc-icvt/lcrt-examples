{
 "cells": [
  {
   "cell_type": "markdown",
   "metadata": {},
   "source": [
    "# Beispiel 10.1: Akkumulation im halbkontinuierlichen Reaktor\n",
    "Bearbeitet von Franz Braun\n",
    "\n",
    "Dieses Beispiel befindet sich im Lehrbuch auf den Seiten 137 - 138. Die Nummerierung\n",
    "der verwendeten Gleichungen entspricht der Nummerierung im Lehrbuch. Das hier angewendete\n",
    "Vorgehen entspricht dem im Lehrbuch vorgestellten Lösungsweg.\n",
    "\n",
    "Zunächst werden die benötigten Pakete importiert."
   ]
  },
  {
   "cell_type": "code",
   "execution_count": 43,
   "metadata": {},
   "outputs": [],
   "source": [
    "### Import\n",
    "import numpy as np\n",
    "from scipy.integrate import solve_ivp\n",
    "import matplotlib.pyplot as plt"
   ]
  },
  {
   "cell_type": "markdown",
   "metadata": {},
   "source": [
    "In diesem Beispiel wird eine stark exotherme irreversible Umlagerungsreaktion in einem zylinderförmigen, halbkontinuierlichen Rührkesselreaktor betrachtet.\n",
    "\n",
    "\\begin{align*}\n",
    "\\mathrm{A_1}  \\rightarrow \\mathrm{A_2} \n",
    "\\end{align*}\n",
    "\n",
    "Zu Beginn werden  die Reaktionskinetik, die Reaktorabmessungen und die Betriebsbedingungen parametriert. Es werden zwei verschiedene Temperaturparametrierungen gewählt. Mit der höheren Temperatur soll, wie im Beispiel im Buch ausführlicher dargelegt, das Edukt schneller abreagieren. Damit soll eine Akkumulation und ein Durchgehen des Reaktors vermieden werden."
   ]
  },
  {
   "cell_type": "code",
   "execution_count": 44,
   "metadata": {},
   "outputs": [],
   "source": [
    "D_R_H   = - 172.5e3         # Reaktionsenthalpie in J mol-1\n",
    "d_R     = 0.8               # Reaktordurchmesser in m\n",
    "h_R     = 0.9               # Reaktorhöhe in m\n",
    "V_R_0   = 0.1               # Reaktionsvolumen zum Zeitpunkt t = 0 s in m3\n",
    "c_1_e   = 6e3               # Eduktkonzentration im Eingangsvolumenstrom in mol m-3\n",
    "c_1_0   = 0                 # Eduktkonzentration bei t = 0 in mol m-3\n",
    "R       = 8.314             # ideale Gaskonstante in J mol-1 K-1\n",
    "\n",
    "V_dot_e = 3e-6              # Eingangsvolumenstrom in m3 s-1\n",
    "k_0     = 7.67e12           # Frequenzfaktor in s-1\n",
    "E_A     = 134e3             # Aktivierungsenergie in J mol-1\n",
    "c_V     = 2e6               # volumen-spezifische Wärmekapazität der Reaktionsmischung in J m-3 K-1\n",
    "h_W     = 95                # Wärmedurchgangskoeffizient in W m-2 K-1\n",
    "\n",
    "# Temperaturen 1\n",
    "T_e_1   = 373.15            # Eingangsstromtemperatur in K\n",
    "T_0_1   = 373.15            # Reaktortemperatur zum Zeitpunkt t = 0 s  in K\n",
    "T_K_1   = 373.15            # mittlere Kühltemperatur in K\n",
    "\n",
    "# Temperaturen 2\n",
    "T_e_2   = 433.15            # zweite höhere Eingangsstromtemperatur in K\n",
    "T_0_2   = 433.15            # zweite höhere Reaktortemperatur zum Zeitpunkt t = 0 s in K\n",
    "T_K_2   = 433.15            # zweite höhere mittlere Kühltemperatur in K"
   ]
  },
  {
   "cell_type": "markdown",
   "metadata": {},
   "source": [
    "Anschließend wird eine Funktion zur Berechnung der Reaktionsgeschwindigkeit der Kinetik 1. Ordnung definiert:\n",
    "\\begin{align*}\n",
    "r_1 &= k_1 \\, c_1,\\\\\n",
    "k_1 &= k_0 \\, \\exp{\\frac{-E_\\mathrm{A}}{R \\, T}}.\n",
    "\\end{align*}"
   ]
  },
  {
   "cell_type": "code",
   "execution_count": 45,
   "metadata": {},
   "outputs": [],
   "source": [
    "def r_berechnen(c_1,T):\n",
    "    '''\n",
    "    Funktion zur Berechnung der Reaktionsgeschwindigkeit r_1 in mol m-3 s-1\n",
    "\n",
    "    Parameter:\n",
    "    ----------\n",
    "    c_1 : Konzentration A1 in mol m-3\n",
    "    k_1 : Reaktionsgeschwindigkeitskonstante in s-1\n",
    "    k_0 : Frequenzfaktor in s-1\n",
    "    E_A : Aktivierungsenergie in J mol-1\n",
    "    R   : ideale Gaskonstante in J mol-1 K-1\n",
    "    T   : Reaktortemperatur in K\n",
    "    '''\n",
    "    k_1     = k_0 * np.exp( - E_A / (R * T) )\n",
    "    r_1     = k_1 * c_1\n",
    "\n",
    "    return r_1"
   ]
  },
  {
   "cell_type": "markdown",
   "metadata": {},
   "source": [
    "Bei einem halbkontinuierlichen Betrieb sind das Volumen der Reaktionsmischung $V_\\mathrm{R}$ und die Wärmeübertragungsfläche $A_\\mathrm{W}$ abhängig von der Zeit. Zur Beschreibung dieser Abhängigkeiten werden die Gleichungen 10.2 und 10.3 aus dem Lehrbuch verwendet.  \n",
    "\\begin{align*}\n",
    "V_\\mathrm{R} (t) &= V_\\mathrm{R,0} + \\dot{V}_\\mathrm{e} \\,t\\\\\n",
    "A_\\mathrm{W} (t) &= \\frac{\\pi\\,d_\\mathrm{R}^2} {4} + \\frac{4}{d_\\mathrm{R}} V_\\mathrm{R} (t)\\\\\n",
    "\\end{align*}\n",
    "\n",
    "\n",
    "In der Funktion _Rührkesselreaktor (RKR)_ werden die Differentialgleichungen (DGLs) der Material und Energiebilanz implementiert. Diese entsprechen den umgestellten Gleichungen 10.7 und 10.5 im Lehrbuch:\n",
    "\\begin{align*}\n",
    "\\frac{\\mathrm{d}c_1}{\\mathrm{d}t} &= \\frac{\\dot{V}_\\mathrm{e}}{V_\\mathrm{R} (t)} (c_{1,\\mathrm{e}} - c_1) - r_1,\\\\\n",
    "\\frac{\\mathrm{d}T}{\\mathrm{d}t}   &= \\frac{\\dot{V}_\\mathrm{e}}{V_\\mathrm{R} (t)} T_\\mathrm{e} - \\frac{\\Delta_\\mathrm{R}H \\, r_1}{c_\\mathrm{V}} - \\frac{h_\\mathrm{W} \\, A_\\mathrm{W}(t)}{V_\\mathrm{R}(t)  \\, c_\\mathrm{V}} (T - T_\\mathrm{K}).\n",
    "\\end{align*}"
   ]
  },
  {
   "cell_type": "code",
   "execution_count": 46,
   "metadata": {},
   "outputs": [],
   "source": [
    "def RKR(t, y, T_e, T_K):\n",
    "    '''\n",
    "    Funktion mit Material- und Energiebilanz eines Rührkessel-Reaktors\n",
    "    \n",
    "    Parameter:\n",
    "    ----------\n",
    "    y       : Vektor der Größe 3\n",
    "                y[0] : c_1 - Konzentration der Komponente A1 in mol m-3\n",
    "                y[1] : T   - Reaktortemperatur in K\n",
    "    t       : Zeit in s\n",
    "    \n",
    "    r_1     : Reaktionsgeschwindigkeit in mol m-3 s-1\n",
    "    c_1     : Konzentration A1 in mol m-3\n",
    "    k_1     : Reaktionsgeschwindigkeitskonstante in s-1\n",
    "    k_0     : Frequenzfaktor in s-1\n",
    "    E_A     : Aktivierungsenergie in J mol-1\n",
    "    R       : ideale Gaskonstante in J mol-1 K-1\n",
    "    D_R_H   : Reaktionsenthalpie in J mol-1\n",
    "    c_V     : volumen-spezifische Wärmekapazität der Reaktionsmischung in J m-3 K-1\n",
    "    T_e     : Eingangsstromtemperatur in K\n",
    "    T_K     : Kühltemperatur in K\n",
    "    T       : Reaktortemperatur in K\n",
    "    h_W     : Wärmedurchgangskoeffizient in W m-2 K-1\n",
    "    A_W     : Wärmeaustauschfläche in m2\n",
    "    V_R     : Reaktionsvolumen in m3\n",
    "\n",
    "    dc1dt   : Konzentrationsgradient der Komponente A1 in mol m-3 s-1\n",
    "    dTdt    : Temperaturgradient in K s-1\n",
    "    '''\n",
    "\n",
    "    # Zuweisen der Konzentrationen und Temperaturen\n",
    "    c_1, T  = y \n",
    "\n",
    "    # Berechnen des Reaktionsvolumens in m3 und der Wärmeaustauschfläche in m2\n",
    "    V_R     = V_R_0 + V_dot_e * t                   # Reaktionsvolumen in m3\n",
    "    A_W     = np.pi * d_R**2 / 4 + 4 / d_R * V_R    # Wärmeaustauschfläche in m2\n",
    "\n",
    "    # Aufrufen der Reaktionsgeschwindigkeitsberechnung\n",
    "    r_1     = r_berechnen(c_1, T) \n",
    "\n",
    "    # Definition der DGLs\n",
    "    dc1dt   =  V_dot_e / V_R * (c_1_e - c_1) - r_1\n",
    "    dTdt    =  V_dot_e / V_R * T_e - D_R_H * r_1 / c_V - h_W * A_W / (V_R * c_V) * (T - T_K)\n",
    "\n",
    "    \n",
    "    return np.hstack((dc1dt,dTdt))"
   ]
  },
  {
   "cell_type": "markdown",
   "metadata": {},
   "source": [
    "Die DGLs werden mit dem solver _solve\\_ivp_ gelöst."
   ]
  },
  {
   "cell_type": "code",
   "execution_count": 47,
   "metadata": {},
   "outputs": [],
   "source": [
    "t_span  = np.array([0, 30 * 3600])                      # Zeitspanne in s\n",
    "t_eval  = np.linspace(t_span[0], t_span[1], 1000)       # Diskretisierung \n",
    "y_0_1   = np.array([c_1_0, T_0_1])                          # Konzentrationen der Komponenten A1 und A2 und Reaktortemperatur zum Zeitpunkt t=0 (Parametrierung 1)\n",
    "y_0_2   = np.array([c_1_0, T_0_2])                          # Konzentrationen der Komponenten A1 und A2 und Reaktortemperatur zum Zeitpunkt t=0 (Parametrierung 2)\n",
    "\n",
    "sol_1 = solve_ivp(RKR, t_span, y_0_1, t_eval = t_eval, args = (T_e_1, T_K_1), method = 'Radau') # Lösen mit Parametrierung 1\n",
    "sol_2 = solve_ivp(RKR, t_span, y_0_2, t_eval = t_eval, args = (T_e_2, T_K_2), method = 'Radau') # Lösen mit Parametrierung 2"
   ]
  },
  {
   "cell_type": "markdown",
   "metadata": {},
   "source": [
    "Im Folgenden werden der Konzentrationsverlauf der Komponente $A_1$ und der Verlauf der Reaktortemperatur geplottet. Es wurde im Vergleich zum Lehrbuch ein geringerer Wärmedurchgangskoeffizient gewählt, so dass sich ein mehrfaches Durchzünden des Reaktors beobachten lässt."
   ]
  },
  {
   "cell_type": "code",
   "execution_count": 52,
   "metadata": {},
   "outputs": [
    {
     "data": {
      "image/png": "[encoded data removed]",
      "text/plain": [
       "<Figure size 720x360 with 2 Axes>"
      ]
     },
     "metadata": {
      "needs_background": "light"
     },
     "output_type": "display_data"
    }
   ],
   "source": [
    "fig, ax = plt.subplots(1, 2, figsize = (10, 5))\n",
    "ax[0].plot(sol_1.t / 3600, sol_1.y[0], color = 'black')\n",
    "ax[0].plot(sol_2.t / 3600, sol_2.y[0], color = 'black', linestyle = '--')\n",
    "ax[0].tick_params(axis=\"y\",direction=\"in\", right = True)\n",
    "ax[0].tick_params(axis=\"x\",direction=\"in\", top = True)\n",
    "ax[0].set_ylabel(r'$c_1\\,/\\,\\mathrm{mol\\,m^{-3}}$')\n",
    "ax[0].set_xlabel(r'$t \\,/\\,\\mathrm{h}$')\n",
    "ax[0].set_xlim(0, 14)\n",
    "ax[0].set_ylim(-50, 2000)\n",
    "\n",
    "ax[1].plot(sol_1.t / 3600, sol_1.y[-1], color = 'black')\n",
    "ax[1].plot(sol_2.t / 3600, sol_2.y[-1], color = 'black', linestyle = '--')\n",
    "ax[1].tick_params(axis=\"y\",direction=\"in\", right = True)\n",
    "ax[1].tick_params(axis=\"x\",direction=\"in\", top = True)\n",
    "ax[1].set_ylabel(r'$T\\,/\\,\\mathrm{K}$')\n",
    "ax[1].set_xlabel(r'$t \\,/\\,\\mathrm{h}$')\n",
    "ax[1].set_xlim(0, 14)\n",
    "plt.tight_layout()\n",
    "plt.show()\n"
   ]
  },
  {
   "cell_type": "markdown",
   "metadata": {},
   "source": [
    "<b>Erratum:</b> Bei der Erstellung der Abbildung 10.3 in Beispiel 10.1 im Lehrbuch hat sich ein Fehler eingeschlichen. Deshalb weichen die quantitativen Verläufe voneinander ab; qualitativ sind die Verläufe jedoch gleich."
   ]
  }
 ],
 "metadata": {
  "kernelspec": {
   "display_name": "Python 3 (ipykernel)",
   "language": "python",
   "name": "python3"
  },
  "language_info": {
   "codemirror_mode": {
    "name": "ipython",
    "version": 3
   },
   "file_extension": ".py",
   "mimetype": "text/x-python",
   "name": "python",
   "nbconvert_exporter": "python",
   "pygments_lexer": "ipython3",
   "version": "3.12.7"
  }
 },
 "nbformat": 4,
 "nbformat_minor": 4
}
