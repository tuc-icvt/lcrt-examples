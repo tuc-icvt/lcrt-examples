{
 "cells": [
  {
   "cell_type": "markdown",
   "metadata": {},
   "source": [
    "# Beispiel 3.6: Rang einer Matrix stöchiometrischer Koeffizienten\n",
    "Bearbeitet von Franz Braun\n",
    "\n",
    "Dieses Beispiel befindet sich im Lehrbuch auf den Seiten 24 - 26.  Das hier angewendete\n",
    "Vorgehen entspricht dem im Lehrbuch vorgestellten Lösungsweg.\n",
    "\n",
    "Zunächst werden die benötigten Pakete importiert."
   ]
  },
  {
   "cell_type": "code",
   "execution_count": 1,
   "metadata": {},
   "outputs": [],
   "source": [
    "### Import\n",
    "import numpy as np\n",
    "from scipy.optimize import root\n",
    "from tabulate import tabulate"
   ]
  },
  {
   "cell_type": "markdown",
   "metadata": {},
   "source": [
    "In diesem Beispiel wird die Dampfreformierung von Methan mit den folgenden sechs Reaktionen betrachtet.\n",
    "\n",
    "\\begin{align*}\n",
    "&\\mathrm{1.\\,\\, Reaktion} \\quad  &                   \\mathrm{CH_4 + H_2O}    &      \\leftrightarrow     \\mathrm{CO + 3H_2} \\\\\n",
    "&\\mathrm{2.\\,\\, Reaktion} \\quad  &                   \\mathrm{CO + H_2O}      &      \\leftrightarrow     \\mathrm{CO_2 + H_2} \\\\\n",
    "&\\mathrm{3.\\,\\, Reaktion} \\quad  &                   \\mathrm{CH_4}           &      \\leftrightarrow     \\mathrm{C + 2\\,H_2} \\\\\n",
    "&\\mathrm{4.\\,\\, Reaktion} \\quad  &                   \\mathrm{2\\, CH_4}       &      \\leftrightarrow     \\mathrm{C_2H_6 + H_2} \\\\\n",
    "&\\mathrm{5.\\,\\, Reaktion} \\quad  &                   \\mathrm{C + H_2O}       &      \\leftrightarrow     \\mathrm{CO + H_2} \\\\\n",
    "&\\mathrm{6.\\,\\, Reaktion} \\quad  &                   \\mathrm{2\\,CO}          &      \\leftrightarrow     \\mathrm{C + CO_2} \\\\\n",
    "\\end{align*}\n",
    "\n",
    "Die stöchiometrischen Koeffizienten werden anschließend in einer Matrix der stöchiometrischen Koeffizienten $N$ angeordnet, mit den Zeilen für die Komponenten und den Spalten für die Reaktionen. Zusätzlich wird der Rang der Matrix bestimmt."
   ]
  },
  {
   "cell_type": "code",
   "execution_count": 2,
   "metadata": {},
   "outputs": [
    {
     "name": "stdout",
     "output_type": "stream",
     "text": [
      "Der Rang der Matrix N beträgt 4 .\n"
     ]
    }
   ],
   "source": [
    "                        # Reaktion j\n",
    "N           = np.array([[  +3,  +1,  +2,  +1,  +1,   0], # H2\n",
    "                        [  +1,  -1,   0,   0,  +1,  -2], # CO\n",
    "                        [  -1,  -1,   0,   0,  -1,   0], # H2O\n",
    "                        [  -1,   0,  -1,  -2,   0,   0], # CH4\n",
    "                        [   0,   0,  +1,   0,  -1,  +1], # C\n",
    "                        [   0,  +1,   0,   0,   0,  +1], # CO2\n",
    "                        [   0,   0,   0,  +1,   0,   0]  # C2H6\n",
    "                        ])          \n",
    "\n",
    "rank_N      = np.linalg.matrix_rank(N)\n",
    "print('Der Rang der Matrix N beträgt',rank_N,'.')"
   ]
  },
  {
   "cell_type": "markdown",
   "metadata": {},
   "source": [
    "Der Rang von vier bedeutet, dass es genau vier linear unabhängige Reaktionsgleichungen gibt. Zusätzlich müssen aus bilanztechnischen Gründen nur die Umsätze von vier Komponenten berücksichtigt werden. Es ist aber noch unklar, um welche Reaktionen und Komponenten es sich tatsächlich handelt. Ggf. ist eine andere Anordnung der Matrix $N$ erforderlich. Um zu überprüfen, welche vier Reaktionen die Schlüsselreaktionen und welche Komponenten die Schlüsselkomponenten sind, wird der Rang der Teilmatrix $N_{1,1}$ (hier der Größe 4x4) bestimmt und mit dem Rang der Gesamtmatrix $N$ verglichen. Stimmen beide Werte überein, enthält die Teilmatrix $N_{1,1}$ die Schlüsselreaktionen und -komponenten. Andernfalls muss die Gesamtmatrix $N$ durch Zeilen- und/oder Spaltentausch verändert werden und erneut der Rang der Teilmatrix $N_{1,1}$ bestimmt und mit dem der Gesamtmatrix $N$ verglichen werden."
   ]
  },
  {
   "cell_type": "code",
   "execution_count": 3,
   "metadata": {},
   "outputs": [
    {
     "name": "stdout",
     "output_type": "stream",
     "text": [
      "Der Rang der Matrix N_11 beträgt 4 .\n"
     ]
    }
   ],
   "source": [
    "                        # Reaktion j\n",
    "N_1_1           = np.array([[  +3,  +1,  +2,  +1], # H2\n",
    "                        [  +1,  -1,   0,   0], # CO\n",
    "                        [  -1,  -1,   0,   0], # H2O\n",
    "                        [  -1,   0,  -1,  -2], # CH4\n",
    "                        ])   \n",
    "\n",
    "rank_N_1_1      = np.linalg.matrix_rank(N_1_1)\n",
    "print('Der Rang der Matrix N_11 beträgt',rank_N_1_1,'.')"
   ]
  },
  {
   "cell_type": "markdown",
   "metadata": {},
   "source": [
    "Hier ist es nicht nötig die Matrix $N$ durch das Vertauschen von Zeilen bzw. Spalten zu ändern, da der Rang von $N$ und $N_{1,1}$ identisch ist. Demzufolge sind die Schlüsselreaktionen die ersten vier Reaktionen und die Schlüsselkomponenten $\\mathrm{H_2,\\,CO,\\,H_2O,\\,CH_4}$."
   ]
  }
 ],
 "metadata": {
  "kernelspec": {
   "display_name": "Python 3",
   "language": "python",
   "name": "python3"
  },
  "language_info": {
   "codemirror_mode": {
    "name": "ipython",
    "version": 3
   },
   "file_extension": ".py",
   "mimetype": "text/x-python",
   "name": "python",
   "nbconvert_exporter": "python",
   "pygments_lexer": "ipython3",
   "version": "3.11.4"
  }
 },
 "nbformat": 4,
 "nbformat_minor": 2
}
