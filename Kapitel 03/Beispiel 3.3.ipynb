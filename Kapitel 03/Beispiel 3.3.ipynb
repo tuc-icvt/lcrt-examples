{
 "cells": [
  {
   "cell_type": "markdown",
   "metadata": {},
   "source": [
    "# Beispiel 3.3: Reaktionsfortschritt bei Gleichgewichtsreaktionen\n",
    "Bearbeitet von Franz Braun\n",
    "\n",
    "Dieses Beispiel befindet sich im Lehrbuch auf den Seiten 17 - 19. Die Nummerierung\n",
    "der verwendeten Gleichungen entspricht der Nummerierung im Lehrbuch. Das hier angewendete\n",
    "Vorgehen entspricht dem im Lehrbuch vorgestellten Lösungsweg.\n",
    "\n",
    "Zunächst werden die benötigten Pakete importiert."
   ]
  },
  {
   "cell_type": "code",
   "execution_count": 1,
   "metadata": {},
   "outputs": [],
   "source": [
    "### Import\n",
    "import numpy as np\n",
    "from scipy.optimize import root\n",
    "from tabulate import tabulate"
   ]
  },
  {
   "cell_type": "markdown",
   "metadata": {},
   "source": [
    "In diesem Beispiel wird die Gleichgewichtszusammensetzung der Ammoniaksynthese bei einer Temperatur $T$ und einem Druck $p$ betrachtet.\n",
    "\n",
    "\\begin{align*}\n",
    "\\mathrm{3 \\, H_2 + N_2}  \\leftrightarrow \\mathrm{2 \\, NH_3} \n",
    "\\end{align*}\n",
    "\n",
    "Zu Beginn werden  $T$, $p$ und die Stoffmengen $n_i$ zum Zeitpunkt $t = 0$ von $\\mathrm{N_2}$, $\\mathrm{H_2}$ und $\\mathrm{NH_3}$ parametriert."
   ]
  },
  {
   "cell_type": "code",
   "execution_count": 2,
   "metadata": {},
   "outputs": [],
   "source": [
    "T       = 450           # K\n",
    "p       = 4.23          # bar\n",
    "n_N2_0  = 1             # mol\n",
    "n_H2_0  = 1             # mol\n",
    "n_NH3_0 = 1             # mol"
   ]
  },
  {
   "cell_type": "markdown",
   "metadata": {},
   "source": [
    "Für die Berechnung der Gleichgewichtszusammensetzung der Ammoniaksynthese wird das Massenwirkungsgesetz aus Abschnitt 4.2 verwendet.\n",
    "\n",
    "\\begin{align*}\n",
    "K_p &= \\frac{p^2_\\mathrm{NH_3}}{p_\\mathrm{N_2} \\, p^3_\\mathrm{H_2}}\\\\\n",
    "K_p \\, p^2 &= \\frac{x^2_\\mathrm{NH_3}}{x_\\mathrm{N_2} \\, x^3_\\mathrm{H_2}}\n",
    "\\end{align*}\n",
    "\n",
    "Die Werte der Gleichgewichtskonstanten bei den gewählten Reaktionsbedingungen sind gegeben als:\n",
    "\\begin{align*}\n",
    "K_p &= 1.397 \\, \\mathrm{bar^{-2}},\\\\\n",
    "K_p \\, p^2 &= 25.\n",
    "\\end{align*}\n",
    "\n",
    "Laut der Definition der Reaktionslaufzahl $\\xi$ und des Stoffmengenanteils $x_i$ gilt:\n",
    "\n",
    "\\begin{align*}\n",
    "n_i &= n_{i,\\,0} + \\nu_i \\xi,\\\\\n",
    "x_i &= \\frac{n_i}{\\sum n_i}.\n",
    "\\end{align*}\n",
    "\n",
    "\n",
    "Das Anwenden dieser Definitionen auf das vorliegende Reaktionsnetzwerk ergibt folgende Zusammenhänge für die Stoffmengenanteile (vgl. Tabelle 3.3 im Beispiel 3.3):\n",
    "\n",
    "\\begin{align*}\n",
    "x_\\mathrm{N_2} &= \\frac{1 \\, \\mathrm{mol} - \\xi} {3 \\, \\mathrm{mol} - 2 \\, \\xi},\\\\\n",
    "x_\\mathrm{H_2} &= \\frac{2 \\, \\mathrm{mol} - 3 \\, \\xi} {3 \\, \\mathrm{mol} - 2 \\, \\xi},\\\\\n",
    "x_\\mathrm{NH_3} &= \\frac{2 \\, \\xi} {3 \\, \\mathrm{mol} - 2 \\, \\xi}.\n",
    "\\end{align*}\n",
    "\n",
    "Einsetzen in das Massenwirkungsgesetz und Umformen führt zu einem Nullstellenproblem:\n",
    "\n",
    "\\begin{align*}\n",
    "K_p \\, p^2 &= \\frac{ \\left(\\frac{2 \\, \\xi} {3 \\, \\mathrm{mol} - 2 \\, \\xi}\\right)^2 }{  \\frac{1 \\, \\mathrm{mol} - \\xi} {3 \\, \\mathrm{mol} - 2 \\, \\xi} \\, \\left( \\frac{2 \\, \\mathrm{mol} - 3 \\, \\xi} {3 \\, \\mathrm{mol} - 2 \\, \\xi} \\right)^3},\\\\\n",
    "f(\\xi) &= 25 \\, (1 \\, \\mathrm{mol} - \\xi) \\, (2 \\, \\mathrm{mol} - 3\\, \\xi)^3 - (3 \\, \\mathrm{mol} - 2 \\, \\xi)^2 \\, (2\\,\\xi)^2  \\overset{!}{=} 0.\n",
    "\\end{align*}\n",
    "\n",
    "## Lösung mit _scipy.optimize.root_\n",
    "\n",
    "Um die Nullstellen zu bestimmten, wird $f(\\xi)$ als Funktion definiert und anschließend mit _scipy.optimize.root_ nach den Nullstellen gesucht."
   ]
  },
  {
   "cell_type": "code",
   "execution_count": 3,
   "metadata": {},
   "outputs": [],
   "source": [
    "def f_xi(xi):\n",
    "    '''\n",
    "    Umgeformtes Massenwirkungsgesetz\n",
    "     -> Funktion zur Bestimmung der Nullstellen \n",
    "    \n",
    "    Parameter:\n",
    "    ----------\n",
    "    xi : float\n",
    "        Reaktionslaufzahl in mol\n",
    "    '''\n",
    "\n",
    "    return 25 * (1 - xi) * (2 - 3 * xi)**3 - (3 - 2 * xi)**2 * (2 * xi)**2"
   ]
  },
  {
   "cell_type": "code",
   "execution_count": 4,
   "metadata": {},
   "outputs": [
    {
     "name": "stdout",
     "output_type": "stream",
     "text": [
      "Das Lösen war erfolgreich.\n",
      "Für die Reaktionslaufzahl wurde der Wert  0.453  mol ermittelt.\n"
     ]
    }
   ],
   "source": [
    "xi_guess = 0                             # \"initial guess\" für xi\n",
    "sol = root(f_xi, xi_guess, tol = 1e-10)  # Lösen mit scypi.optimize.root\n",
    "\n",
    "''' \n",
    "Wenn der solver erfolgreich ist, wird xi ausgegeben.\n",
    "Sollte das Lösen fehlschlagen, wird die \"solver-message\" und der \"solver-success\" ausgegeben.\n",
    "'''\n",
    "if sol.success:\n",
    "    xi = sol.x[0]\n",
    "    print('Das Lösen war erfolgreich.')\n",
    "    print('Für die Reaktionslaufzahl wurde der Wert ', np.round(xi,3),' mol ermittelt.')\n",
    "else:\n",
    "    print(sol.success)\n",
    "    print(sol.message)\n",
    "\n"
   ]
  },
  {
   "cell_type": "markdown",
   "metadata": {},
   "source": [
    "Hinweis: \n",
    "\n",
    "Bei mehreren möglichen Lösungen hängt das Ergebnis von _scypi.optimize.root_ vom \"initial-guess\" ab.\n",
    "\n",
    "## Alternative Lösung mit dem NEWTONschen Verfahren\n",
    "\n",
    "Alternativ zu _scipy.optimize.root_ kann das NEWTONsche Verfahren, wie im Lehrbuch beschrieben, verwendet werden.\n",
    "\n",
    "Hierfür wird die Ableitung $f'(\\xi)$ benötigt:\n",
    "\n",
    "\\begin{align*}\n",
    "f'(\\xi) &= - 25 \\, \\left[ (2 \\, \\mathrm{mol} - 3 \\, \\xi)^3 + 9 \\, (1 \\, \\mathrm{mol} - \\xi) \\, (2 \\, \\mathrm{mol} - 3 \\, \\xi)^2 \\right] \n",
    "+ 4 \\, (3 \\, \\mathrm{mol} - 2 \\, \\xi) \\, (2\\,\\xi)^2 - (3 \\, \\mathrm{mol} - 2\\, \\xi)^2 \\, 8\\,\\xi.\n",
    "\\end{align*}"
   ]
  },
  {
   "cell_type": "code",
   "execution_count": 5,
   "metadata": {},
   "outputs": [],
   "source": [
    "def df_xi(xi):\n",
    "    '''\n",
    "    Ableitung des umgeformten Massenwirkungsgesetzes\n",
    "     -> Funktion zur Bestimmung der Nullstellen \n",
    "    \n",
    "    Parameter:\n",
    "    ----------\n",
    "    xi : float\n",
    "        Reaktionslaufzahl in mol\n",
    "    '''\n",
    "\n",
    "    # return - 25 * ((2 - 3 * xi)**3 + 9 * (1 - xi) * (2 - 3 * xi)**2) + 4 * (3 - 2 * xi) * (2 * xi)**2 - (3 - 2 * xi)**2 * 8 * xi\n",
    "    return 2636 * xi**3 - 5931 * xi**2 + 4428 * xi - 1100"
   ]
  },
  {
   "cell_type": "markdown",
   "metadata": {},
   "source": [
    "Das Verfahren wird mit folgender Iterationsvorschrift durchgeführt. Dabei können $n$ Iterationsschritte verwendet werden, bis der Unterschied zwischen zwei aufeinanderfolgenden Schritten, $\\Delta x = x_{n+1} - x_n$, kleiner als ein zuvor festgelegter Wert, der Threshold, ist. \n",
    "\\begin{align*}\n",
    "x_{n+1} &= x_n - \\frac{f(x_n)}{f'(x_n)}\n",
    "\\end{align*}\n",
    "\n",
    "Da es sich um ein iteratives Verfahren handelt, erfolgt das Lösen mit einer _while_ Bedingung. Der erste Iterationsschritt wird vor der Bedingung durchgeführt und liefert das erste $\\Delta x$ zum Vergleich mit dem Threshold. \n",
    "\n",
    "Hinweis : Es sollte neben dem Threshold ein weiteres Abbruchkriterium der Bedingung definiert werden, um eine (unendlich) lange Rechenzeit zu vermeiden. Häufig wird hierfür eine maximale Anzahl an Iterationsschritten vorgegeben. "
   ]
  },
  {
   "cell_type": "code",
   "execution_count": 6,
   "metadata": {},
   "outputs": [
    {
     "name": "stdout",
     "output_type": "stream",
     "text": [
      "Für die Reaktionslaufzahl wurde der Wert  0.453  mol mit 7  Iterationen ermittelt.\n",
      "Der relative Unterschied der beiden Lösungsverfahren beträgt:  0.0\n"
     ]
    }
   ],
   "source": [
    "threshold       = 1e-10 # Threshold\n",
    "i               = 0     # Variable zum Zählen der Iterationsschritte\n",
    "x_0             = 0.3   # Startwert\n",
    "max_it          = 1e5   # Maximale Anzahl an Iterationsschritten\n",
    "\n",
    "### Iteration\n",
    "x = [] # Liste zum Speichern der ermittelten xi\n",
    "\n",
    "# erster Iterationsschritt\n",
    "x.append(x_0)\n",
    "x.append(x[-1] - f_xi(x[-1] ) / df_xi(x[-1]))\n",
    "delta_x         = x[-1] - x[-2]\n",
    "i               += 1\n",
    "\n",
    "# alle weiteren Iterationsschritte\n",
    "while (delta_x > threshold and i < max_it):\n",
    "   \n",
    "    x.append (x[-1] - f_xi(x[-1] ) / df_xi(x[-1]))\n",
    "    delta_x     = x[-1] - x[-2]\n",
    "    i           += 1  \n",
    "    if i == 501:\n",
    "        print(x)\n",
    "        raise ValueError('Maximale Anzahl an Iterationen erreicht.')\n",
    "\n",
    "# Der letzte Wert in der Liste ist die Lösung\n",
    "xi_newton = x[-1]\n",
    "\n",
    "\n",
    "print('Für die Reaktionslaufzahl wurde der Wert ', np.round(xi_newton, 3),' mol mit', i ,' Iterationen ermittelt.')\n",
    "print('Der relative Unterschied der beiden Lösungsverfahren beträgt: ', (xi-xi_newton)/xi_newton)"
   ]
  },
  {
   "cell_type": "markdown",
   "metadata": {},
   "source": [
    "Es werden die gleichen Ergebnisse mit beiden Lösungsverfahren erzielt. \n",
    "\n",
    "## Berechnung der Stoffmengen und Stoffmengenanteile im Gleichgewicht\n",
    "\n",
    "Abschließend werden die Stoffmengen und Stoffmengenanteile im Gleichgewicht bestimmt.\n",
    "\n",
    "\\begin{align*}\n",
    "n_\\mathrm{N2,\\,eq}     &= 1\\, \\mathrm{mol} - \\xi   \\\\  \n",
    "n_\\mathrm{H2,\\,eq}     &= 2\\, \\mathrm{mol} - 3 \\, \\xi\\\\\n",
    "n_\\mathrm{NH_3,\\,eq}   &= 2 \\, \\xi\\\\\n",
    "x_{i,\\,\\mathrm{eq}} &= \\frac{n_{i,\\,\\mathrm{eq}}}{n_\\mathrm{N2,\\,eq} + n_\\mathrm{H2,\\,eq} + n_\\mathrm{NH_3,\\,eq}}\n",
    "\\end{align*}"
   ]
  },
  {
   "cell_type": "code",
   "execution_count": 7,
   "metadata": {},
   "outputs": [],
   "source": [
    "# Stoffmengen in mol\n",
    "n_N2_eq     = 1 - xi     \n",
    "n_H2_eq     = 2 - 3 * xi\n",
    "n_NH_3_eq   = 2 * xi\n",
    "\n",
    "# Stoffmengenanteile\n",
    "x_N2_eq     = n_N2_eq   / (n_N2_eq + n_H2_eq + n_NH_3_eq)\n",
    "x_H2_eq     = n_H2_eq   / (n_N2_eq + n_H2_eq + n_NH_3_eq)\n",
    "x_NH_3_eq   = n_NH_3_eq / (n_N2_eq + n_H2_eq + n_NH_3_eq)"
   ]
  },
  {
   "cell_type": "markdown",
   "metadata": {},
   "source": [
    "Die Ausgabe der Ergebnisse erfolgt tabellarisch."
   ]
  },
  {
   "cell_type": "code",
   "execution_count": 8,
   "metadata": {},
   "outputs": [
    {
     "name": "stdout",
     "output_type": "stream",
     "text": [
      "             N_2    H_2    NH_3\n",
      "---------  -----  -----  ------\n",
      "n_i / mol  0.547  0.641   0.906\n",
      "x_i / 1    0.261  0.306   0.433\n"
     ]
    }
   ],
   "source": [
    "# Ausgabe der Ergebnisse als Tabelle\n",
    "\n",
    "names_y     = np.array((['n_i / mol'], ['x_i / 1']))\n",
    "n_row       = np.array((n_N2_eq, n_H2_eq, n_NH_3_eq))  \n",
    "x_row       = np.array((x_N2_eq, x_H2_eq, x_NH_3_eq))\n",
    "\n",
    "# Array für die Tabelle\n",
    "table       = np.hstack((names_y, np.round(np.vstack((n_row, x_row)), 3)))\n",
    "\n",
    "print(tabulate(table, headers = ['N_2', 'H_2', 'NH_3'] ))"
   ]
  }
 ],
 "metadata": {
  "kernelspec": {
   "display_name": "Python 3",
   "language": "python",
   "name": "python3"
  },
  "language_info": {
   "codemirror_mode": {
    "name": "ipython",
    "version": 3
   },
   "file_extension": ".py",
   "mimetype": "text/x-python",
   "name": "python",
   "nbconvert_exporter": "python",
   "pygments_lexer": "ipython3",
   "version": "3.11.4"
  }
 },
 "nbformat": 4,
 "nbformat_minor": 2
}
