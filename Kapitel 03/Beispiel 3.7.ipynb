{
 "cells": [
  {
   "cell_type": "markdown",
   "metadata": {},
   "source": [
    "# Beispiel 3.7: Berechnung der Nicht-Schlüsselkomponenten\n",
    "Bearbeitet von Franz Braun\n",
    "\n",
    "Dieses Beispiel befindet sich im Lehrbuch auf den Seiten 27 - 28. Die Nummerierung\n",
    "der verwendeten Gleichungen entspricht der Nummerierung im Lehrbuch. Das hier angewendete\n",
    "Vorgehen entspricht dem im Lehrbuch vorgestellten Lösungsweg.\n",
    "\n",
    "Zunächst werden die benötigten Pakete importiert."
   ]
  },
  {
   "cell_type": "code",
   "execution_count": 25,
   "metadata": {},
   "outputs": [],
   "source": [
    "### Import\n",
    "import numpy as np\n",
    "from scipy.optimize import root\n",
    "from tabulate import tabulate"
   ]
  },
  {
   "cell_type": "markdown",
   "metadata": {},
   "source": [
    "Aus dem Beispiel 3.6 ist die Matrix $N$ der stöchiometrischen Koeffizienten bekannt. Diese wird nun in die Teilmatrizen $N_{1,1}$ und $N_{2,1}$ unterteilt. In $N_{1,1}$ werden die Schlüsselkomponenten und in $N_{2,1}$ die Nicht-Schlüsselkomponenten betrachtet, so wie sie in den Schlüsselreaktionen vorkommen. \n",
    "Der Umsatz der Nicht-Schlüsselkomponenten kann mit der Gleichung 3.26 bestimmt werden. Hier wird das entsprechende Matrixprodukt als $MP$ definiert:\n",
    "\n",
    "\\begin{align*}\n",
    "MP = N_{2,1} \\, N_{1,1}^{-1}.\n",
    "\\end{align*}\n",
    "\n",
    "Die inverse Matrix $N_{1,1}^{-1}$ wird zuvor in einem separaten Schritt aus $N_{1,1}$  gebildet."
   ]
  },
  {
   "cell_type": "code",
   "execution_count": 26,
   "metadata": {},
   "outputs": [
    {
     "name": "stdout",
     "output_type": "stream",
     "text": [
      "N_11^-1 : [[ 0.          0.5        -0.5         0.        ]\n",
      " [-0.         -0.5        -0.5        -0.        ]\n",
      " [ 0.66666667 -0.5         1.16666667  0.33333333]\n",
      " [-0.33333333 -0.         -0.33333333 -0.66666667]]\n",
      "MP : [[ 0.66666667 -0.5         1.16666667  0.33333333]\n",
      " [ 0.         -0.5        -0.5         0.        ]\n",
      " [-0.33333333  0.         -0.33333333 -0.66666667]]\n"
     ]
    }
   ],
   "source": [
    "                        # Reaktion j\n",
    "N           = np.array([[  +3,  +1,  +2,  +1,  +1,   0], # H2\n",
    "                        [  +1,  -1,   0,   0,  +1,  -2], # CO\n",
    "                        [  -1,  -1,   0,   0,  -1,   0], # H2O\n",
    "                        [  -1,   0,  -1,  -2,   0,   0], # CH4\n",
    "                        [   0,   0,  +1,   0,  -1,  +1], # C\n",
    "                        [   0,  +1,   0,   0,   0,  +1], # CO2\n",
    "                        [   0,   0,   0,  +1,   0,   0]  # C2H6\n",
    "                        ])          \n",
    "\n",
    "                    \n",
    "N_1_1       = np.array([[  +3,  +1,  +2,  +1],\n",
    "                        [  +1,  -1,   0,   0],\n",
    "                        [  -1,  -1,   0,   0],\n",
    "                        [  -1,   0,  -1,  -2]\n",
    "                        ])   \n",
    "\n",
    "N_2_1       = np.array([[   0,   0,  +1,   0], \n",
    "                        [   0,  +1,   0,   0],\n",
    "                        [   0,   0,   0,  +1] \n",
    "                        ]) \n",
    "\n",
    "\n",
    "N_1_1_inv   = np.linalg.inv(N_1_1)          # Bildung der inversen Matrix N_11^-1\n",
    "print('N_11^-1 :', N_1_1_inv)\n",
    "\n",
    "\n",
    "MP          = np.matmul(N_2_1, N_1_1_inv)   # Vektorprodukt\n",
    "print('MP :', MP)"
   ]
  },
  {
   "cell_type": "markdown",
   "metadata": {},
   "source": [
    "Im Folgenden wird $MP$ tabellarisch ausgeben. Jede Zeile entspricht der Stoffmengenänderung (bzw. Umsatz) einer Nicht-Schlüsselkomponente, während in den Spalten die Umsätze der Schlüsselkomponenten aufgeführt werden. Die Tabelle soll als Unterstützung der Umwandlung von der in Gleichung 3.26 gegebener Vektorschreibweise zu untenstehender Komponentenschreibweise dienen."
   ]
  },
  {
   "cell_type": "code",
   "execution_count": 27,
   "metadata": {},
   "outputs": [
    {
     "name": "stdout",
     "output_type": "stream",
     "text": [
      "                      Delta_n_H2 / mol    Delta_n_CO / mol    Delta_n_H2O / mol    Delta_n_CH4 / mol\n",
      "------------------  ------------------  ------------------  -------------------  -------------------\n",
      "Delta_n_C / mol                 0.6667                -0.5               1.1667               0.3333\n",
      "Delta_n_CO2 / mol               0                     -0.5              -0.5                  0\n",
      "Delta_n_C2H6 / mol             -0.3333                 0                -0.3333              -0.6667\n"
     ]
    }
   ],
   "source": [
    "# Ausgabe der Ergebnisse als Tabelle\n",
    "\n",
    "names_y  = np.array([['Delta_n_C / mol'], ['Delta_n_CO2 / mol'], ['Delta_n_C2H6 / mol']])\n",
    "\n",
    "\n",
    "# Array für Tabelle\n",
    "table = np.hstack((names_y, np.round(MP, 4)))\n",
    "\n",
    "print(tabulate(table,headers = ['Delta_n_H2 / mol', 'Delta_n_CO / mol', 'Delta_n_H2O / mol', 'Delta_n_CH4 / mol']))"
   ]
  },
  {
   "cell_type": "markdown",
   "metadata": {},
   "source": [
    "Aus der obigen Tabelle ergibt sich folgende Komponentenschreibweise zur Berechnung des Umsatzes von Nicht-Schlüsselkomponenten:\n",
    "\n",
    "\\begin{align*}\n",
    "\\Delta n_\\mathrm{C} &= \\frac{2}{3}\\, \\Delta n_\\mathrm{H_2} - \\frac{1}{2}\\, \\Delta n_\\mathrm{CO} + \\frac{7}{6}\\, \\Delta n_\\mathrm{H_2O} + \\frac{1}{3}\\, \\Delta n_\\mathrm{CH_4},\\\\\n",
    "\\Delta n_\\mathrm{CO_2} &= - \\frac{1}{2}\\, \\Delta n_\\mathrm{CO} - \\frac{1}{2}\\, \\Delta n_\\mathrm{H_2O},\\\\\n",
    "\\Delta n_\\mathrm{C_2H_6} &= - \\frac{1}{3}\\, \\Delta n_\\mathrm{H_2} - \\frac{1}{3}\\, \\Delta n_\\mathrm{H_2O} - \\frac{2}{3}\\, \\Delta n_\\mathrm{CH_4}.\n",
    "\\end{align*}"
   ]
  },
  {
   "cell_type": "markdown",
   "metadata": {},
   "source": [
    "Zahlenbeispiel: Wir nehmen an, dass folgende Umsätze für die Schlüsselkomponenten $\\mathrm{H_2}$, $\\mathrm{CO}$, $\\mathrm{H_2O}$ und $\\mathrm{CH_4}$ gemessen wurden: \n",
    "\n",
    "\\begin{align*}\n",
    "\\Delta n_1 = \\left[\\begin{array}{c}30\\\\ 9\\\\ -10\\\\ -10\\end{array}\\right]\\,\\mathrm{mol}\n",
    "\\end{align*}"
   ]
  },
  {
   "cell_type": "code",
   "execution_count": 28,
   "metadata": {},
   "outputs": [
    {
     "name": "stdout",
     "output_type": "stream",
     "text": [
      "Delta_n_2 : [[ 5.0000000e-01]\n",
      " [ 5.0000000e-01]\n",
      " [-8.8817842e-16]]\n"
     ]
    }
   ],
   "source": [
    "Delta_n_1 = np.array([[ 30,  # H2\n",
    "                         9,  # CO\n",
    "                       -10,  # H2O\n",
    "                       -10]]) # CH4\n",
    "\n",
    "Delta_n_2 = np.matmul(MP, Delta_n_1.T) # Vektorprodukt\n",
    "\n",
    "print('Delta_n_2 :', Delta_n_2)"
   ]
  },
  {
   "cell_type": "markdown",
   "metadata": {},
   "source": [
    "Es ergeben sich für die Nicht-Schlüsselkomponenten nun folgende Umsätze:\n",
    "\n",
    "\\begin{align*}\n",
    "\\Delta n_2 = \\left[\\begin{array}{c}0,5\\\\ 0,5\\\\ 0\\end{array}\\right]\\,\\mathrm{mol}\n",
    "\\end{align*}\n",
    "\n",
    "Es bildet sich also fester Kohlenstoff sowie $\\mathrm{CO_2}$, was wahrscheinlich unerwünscht ist."
   ]
  }
 ],
 "metadata": {
  "kernelspec": {
   "display_name": "Python 3 (ipykernel)",
   "language": "python",
   "name": "python3"
  },
  "language_info": {
   "codemirror_mode": {
    "name": "ipython",
    "version": 3
   },
   "file_extension": ".py",
   "mimetype": "text/x-python",
   "name": "python",
   "nbconvert_exporter": "python",
   "pygments_lexer": "ipython3",
   "version": "3.9.12"
  }
 },
 "nbformat": 4,
 "nbformat_minor": 2
}
