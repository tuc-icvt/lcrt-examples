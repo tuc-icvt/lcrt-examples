{
 "cells": [
  {
   "cell_type": "markdown",
   "metadata": {},
   "source": [
    "# Beispiel 3.8: Nicht-Schlüsselkomponenten aus Elementbilanz\n",
    "Bearbeitet von Franz Braun\n",
    "\n",
    "Dieses Beispiel befindet sich im Lehrbuch auf den Seiten 30 - 31. Die Nummerierung\n",
    "der verwendeten Gleichungen entspricht der Nummerierung im Lehrbuch. Das hier angewendete\n",
    "Vorgehen entspricht dem im Lehrbuch vorgestellten Lösungsweg.\n",
    "\n",
    "Zunächst werden die benötigten Pakete importiert."
   ]
  },
  {
   "cell_type": "code",
   "execution_count": 9,
   "metadata": {},
   "outputs": [],
   "source": [
    "### Import\n",
    "import numpy as np\n",
    "from scipy.optimize import root\n",
    "from tabulate import tabulate"
   ]
  },
  {
   "cell_type": "markdown",
   "metadata": {},
   "source": [
    "Für das Beispiel der Synthesegaserzeugung aus Methan und Wasserdampf (vgl. Beispiele 3.6 und 3.7) lässt sich die Element-Spezies-Matrix $B$ nach Kapitel 3.6 (Seite 28 - 31) formulieren. \n",
    "\n",
    "\\begin{align*}\n",
    "&\\mathrm{1.\\,\\, Reaktion} \\quad  &                   \\mathrm{CH_4 + H_2O}    &      \\leftrightarrow     \\mathrm{CO + 3H_2} \\\\\n",
    "&\\mathrm{2.\\,\\, Reaktion} \\quad  &                   \\mathrm{CO + H_2O}      &      \\leftrightarrow     \\mathrm{CO_2 + H_2} \\\\\n",
    "&\\mathrm{3.\\,\\, Reaktion} \\quad  &                   \\mathrm{CH_4}           &      \\leftrightarrow     \\mathrm{C + 2\\,H_2} \\\\\n",
    "&\\mathrm{4.\\,\\, Reaktion} \\quad  &                   \\mathrm{2\\, CH_4}       &      \\leftrightarrow     \\mathrm{C_2H_6 + H_2} \\\\\n",
    "&\\mathrm{5.\\,\\, Reaktion} \\quad  &                   \\mathrm{C + H_2O}       &      \\leftrightarrow     \\mathrm{CO + H_2} \\\\\n",
    "&\\mathrm{6.\\,\\, Reaktion} \\quad  &                   \\mathrm{2\\,CO}          &      \\leftrightarrow     \\mathrm{C + CO_2} \\\\\n",
    "\\end{align*}\n",
    "\n",
    "Diese Matrix wird in die Teilmatrizen $B_1$ der Schlüsselkomponenten und $B_2$ für Nicht-Schlüsselkomponenten unterteilt. "
   ]
  },
  {
   "cell_type": "code",
   "execution_count": 10,
   "metadata": {},
   "outputs": [],
   "source": [
    "                        #   H2  CO  H2O CH4 C   CO2 C2H6\n",
    "B           = np.array([[   0,  1,  0,  1,  1,  1,  2   ],  # C\n",
    "                        [   2,  0,  2,  4,  0,  0,  6   ],  # H\n",
    "                        [   0,  1,  1,  0,  0,  2,  0   ]]) # O\n",
    "\n",
    "# Schlüsselkomponenten                       \n",
    "                       #   H2  CO  H2O CH4 \n",
    "B_1         = np.array([[   0,  1,  0,  1   ],  # C\n",
    "                        [   2,  0,  2,  4   ],  # H\n",
    "                        [   0,  1,  1,  0   ]]) # O\n",
    "\n",
    "# Nicht- Schlüsselkomponenten\n",
    "                        #    C   CO2 C2H6\n",
    "B_2         = np.array([[   1,  1,  2   ],  # C\n",
    "                        [   0,  0,  6   ],  # H\n",
    "                        [   0,  2,  0   ]]) # O "
   ]
  },
  {
   "cell_type": "markdown",
   "metadata": {},
   "source": [
    "Mit der Gleichung 3.30 werden die Umsätze der Nicht-Schlüsselkomponenten bestimmt. Hierfür wird analog zum Beispiel 3.7 ein Vektorprodukt $MP$ definiert:\n",
    "\n",
    "\\begin{align*}\n",
    "MP = - B_{2}^{-1} \\, B_{1}.\n",
    "\\end{align*}\n",
    "\n",
    "Die inverse Matrix $B_{2}^{-1}$ wird zuvor in einem separaten Schritt aus $B_{2}$ gebildet.\n",
    "\n",
    "Aus Gründen der Anschaulichkeit werden vor der tabellarischen Ausgabe von $MP$ zur Bildung der Komponentenschreibweise alle $\"-0\"$ Einträge in $MP$ durch \"0\" mit zwei For-Schleifen ersetzt. Jede Tabellenzeile entspricht der Stoffmengenänderung (bzw. Umsatz) einer Nicht-Schlüsselkomponente. In den Spalten stehen die Umsätze der Schlüsselkomponenten."
   ]
  },
  {
   "cell_type": "code",
   "execution_count": 11,
   "metadata": {},
   "outputs": [
    {
     "name": "stdout",
     "output_type": "stream",
     "text": [
      "B_2^-1 : [[ 1.         -0.33333333 -0.5       ]\n",
      " [ 0.          0.          0.5       ]\n",
      " [ 0.          0.16666667  0.        ]]\n",
      "MP : [[ 0.66666667 -0.5         1.16666667  0.33333333]\n",
      " [-0.         -0.5        -0.5        -0.        ]\n",
      " [-0.33333333 -0.         -0.33333333 -0.66666667]]\n",
      "\n",
      "\n",
      "                      Delta_n_H2 / mol    Delta_n_CO / mol    Delta_n_H2O / mol    Delta_n_CH4 / mol\n",
      "------------------  ------------------  ------------------  -------------------  -------------------\n",
      "Delta_n_C / mol                 0.6667                -0.5               1.1667               0.3333\n",
      "Delta_n_CO2 / mol               0                     -0.5              -0.5                  0\n",
      "Delta_n_C2H6 / mol             -0.3333                 0                -0.3333              -0.6667\n"
     ]
    }
   ],
   "source": [
    "B_2_inv     = np.linalg.inv(B_2)            # Bildung der inversen Matrix B_2^-1\n",
    "print('B_2^-1 :', B_2_inv)\n",
    "\n",
    "MP          = - np.matmul(B_2_inv, B_1)     # Vektorprodukt\n",
    "print('MP :', MP)\n",
    "print()\n",
    "print()\n",
    "\n",
    "# Austauschen von \"-0\" mit \"0\" in der Matrix \n",
    "for i in range(len(MP)):\n",
    "    for j in range(len(MP[0])):\n",
    "        if MP[i][j] == -0:\n",
    "            MP[i][j] = 0\n",
    "\n",
    "\n",
    "\n",
    "# Ausgabe der Ergebnisse als Tabelle\n",
    "\n",
    "names_y     = np.array([['Delta_n_C / mol'], ['Delta_n_CO2 / mol'], ['Delta_n_C2H6 / mol']])\n",
    "\n",
    "\n",
    "# Array für Tabelle\n",
    "table       = np.hstack((names_y, np.round(MP, 4)))\n",
    "\n",
    "print(tabulate(table,headers = ['Delta_n_H2 / mol', 'Delta_n_CO / mol', 'Delta_n_H2O / mol', 'Delta_n_CH4 / mol']))"
   ]
  },
  {
   "cell_type": "markdown",
   "metadata": {},
   "source": [
    "Aus der obigen Tabelle ergibt sich folgende Komponentenschreibweise für die Umsätze der Nicht-Schlüsselkomponenten:\n",
    "\n",
    "\\begin{align*}\n",
    "\\Delta n_\\mathrm{C} &= \\frac{2}{3}\\, \\Delta n_\\mathrm{H_2} - \\frac{1}{2}\\, \\Delta n_\\mathrm{CO} + \\frac{7}{6}\\, \\Delta n_\\mathrm{H_2O} + \\frac{1}{3}\\, \\Delta n_\\mathrm{CH_4},\\\\\n",
    "\\Delta n_\\mathrm{CO_2} &= - \\frac{1}{2}\\, \\Delta n_\\mathrm{CO} - \\frac{1}{2}\\, \\Delta n_\\mathrm{H_2O},\\\\\n",
    "\\Delta n_\\mathrm{C_2H_6} &= - \\frac{1}{3}\\, \\Delta n_\\mathrm{H_2} - \\frac{1}{3}\\, \\Delta n_\\mathrm{H_2O} - \\frac{2}{3}\\, \\Delta n_\\mathrm{CH_4}.\n",
    "\\end{align*}"
   ]
  },
  {
   "cell_type": "markdown",
   "metadata": {},
   "source": [
    "Zahlenbeispiel: Wir nehmen an, dass folgende Umsätze für die Schlüsselkomponenten $\\mathrm{H_2}$, $\\mathrm{CO}$, $\\mathrm{H_2O}$ und $\\mathrm{CH_4}$ gemessen wurden: \n",
    "\n",
    "\\begin{align*}\n",
    "\\Delta n_1 = \\left[\\begin{array}{c}30\\\\ 9\\\\ -10\\\\ -10\\end{array}\\right]\\,\\mathrm{mol}\n",
    "\\end{align*}"
   ]
  },
  {
   "cell_type": "code",
   "execution_count": 12,
   "metadata": {},
   "outputs": [
    {
     "name": "stdout",
     "output_type": "stream",
     "text": [
      "Delta_n_2 : [[ 5.0000000e-01]\n",
      " [ 5.0000000e-01]\n",
      " [-8.8817842e-16]]\n"
     ]
    }
   ],
   "source": [
    "Delta_n_1 = np.array([[ 30,  # H2\n",
    "                         9,  # CO\n",
    "                       -10,  # H2O\n",
    "                       -10]]) # CH4\n",
    "\n",
    "Delta_n_2 = np.matmul(MP, Delta_n_1.T) # Vektorprodukt\n",
    "\n",
    "print('Delta_n_2 :', Delta_n_2)"
   ]
  },
  {
   "cell_type": "markdown",
   "metadata": {},
   "source": [
    "Es ergeben sich für die Nicht-Schlüsselkomponenten nun folgende Umsätze:\n",
    "\n",
    "\\begin{align*}\n",
    "\\Delta n_2 = \\left[\\begin{array}{c}0,5\\\\ 0,5\\\\ 0\\end{array}\\right]\\,\\mathrm{mol}\n",
    "\\end{align*}\n",
    "\n",
    "Diese Ergebnisse sind erwartungsgemäß identisch mit Beispiel 3.7, in dem die gleichen Umsätze der Schlüsselkomponenten genutzt werden."
   ]
  }
 ],
 "metadata": {
  "kernelspec": {
   "display_name": "Python 3 (ipykernel)",
   "language": "python",
   "name": "python3"
  },
  "language_info": {
   "codemirror_mode": {
    "name": "ipython",
    "version": 3
   },
   "file_extension": ".py",
   "mimetype": "text/x-python",
   "name": "python",
   "nbconvert_exporter": "python",
   "pygments_lexer": "ipython3",
   "version": "3.9.12"
  }
 },
 "nbformat": 4,
 "nbformat_minor": 2
}
